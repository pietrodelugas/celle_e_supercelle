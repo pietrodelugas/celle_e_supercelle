{
 "cells": [
  {
   "cell_type": "code",
   "execution_count": 2,
   "metadata": {},
   "outputs": [],
   "source": [
    "import pymatgen.core as pmg\n",
    "import numpy as np"
   ]
  },
  {
   "cell_type": "markdown",
   "metadata": {},
   "source": [
    "First thing we generate the bulk $\\mathrm{fcc}$ structure. \n",
    "* we define the lattice with the 3 fcc vectors\n",
    "* a list with a symbol for the atoms in the structure ( in this just one Al) \n",
    "* the coordinates in the same order as the symbols is a list of np.arrays of length 3"
   ]
  },
  {
   "cell_type": "code",
   "execution_count": 3,
   "metadata": {},
   "outputs": [],
   "source": [
    "alat = 10.21 \n",
    "lattice = np.array([[0.,1.,1.], [1.,0.,1], [1.,1.,0]])* alat *0.5\n",
    "species = ['Si','Si']\n",
    "coords=[np.array([0,0,0]), np.array([0.25,0.25,0.25])]\n",
    "\n",
    "s = pmg.Structure(lattice=lattice, species=species , coords=coords, coords_are_cartesian=False) "
   ]
  },
  {
   "cell_type": "markdown",
   "metadata": {},
   "source": [
    "just to check everything is fine we make print out the info about the structure"
   ]
  },
  {
   "cell_type": "code",
   "execution_count": 4,
   "metadata": {},
   "outputs": [
    {
     "data": {
      "text/plain": [
       "Structure Summary\n",
       "Lattice\n",
       "    abc : 7.219560235914651 7.219560235914651 7.219560235914651\n",
       " angles : 60.00000000000001 60.00000000000001 60.00000000000001\n",
       " volume : 266.08306525000006\n",
       "      A : 0.0 5.105 5.105\n",
       "      B : 5.105 0.0 5.105\n",
       "      C : 5.105 5.105 0.0\n",
       "    pbc : True True True\n",
       "PeriodicSite: Si (0.0000, 0.0000, 0.0000) [0.0000, 0.0000, 0.0000]\n",
       "PeriodicSite: Si (2.5525, 2.5525, 2.5525) [0.2500, 0.2500, 0.2500]"
      ]
     },
     "execution_count": 4,
     "metadata": {},
     "output_type": "execute_result"
    }
   ],
   "source": [
    "s"
   ]
  },
  {
   "cell_type": "markdown",
   "metadata": {},
   "source": [
    "we now generate a supercell with the $z$  axis oriented along the $[1 0 0]$ direction and the other 2 axes perpendicular to it, generating the 4X2 conventional cell  \n",
    "* we copy the bulk structure into s1 \n",
    "* we transform `sup1` in a supercell. The  input in the second line means that the new vectors of the lattice for the supercell are $$\\bf{a_1^\\prime} = -\\bf{a_1} + -2\\bf{a_2}+2\\bf{a_3}  \\; ; \\; \\bf{a_2^\\prime} = \\bf{a_1}-2\\bf{a_2}+2\\bf{a_3} \\: ; \\: \\bf{a_3^\\prime} = -\\bf{a_1} + \\bf{a_2} +\\bf{a_3}  $$"
   ]
  },
  {
   "cell_type": "code",
   "execution_count": 5,
   "metadata": {},
   "outputs": [
    {
     "data": {
      "text/plain": [
       "(Structure Summary\n",
       " Lattice\n",
       "     abc : 16.14342745515958 16.14342745515958 10.21\n",
       "  angles : 90.0 90.0 53.13010235415598\n",
       "  volume : 2128.6645220000005\n",
       "       A : 0.0 5.105 -15.315000000000001\n",
       "       B : 0.0 15.315000000000001 -5.105\n",
       "       C : 10.21 0.0 0.0\n",
       "     pbc : True True True\n",
       " PeriodicSite: Si (5.1050, 10.2100, -15.3150) [0.8750, 0.3750, 0.5000]\n",
       " PeriodicSite: Si (5.1050, 5.1050, -10.2100) [0.6250, 0.1250, 0.5000]\n",
       " PeriodicSite: Si (0.0000, 15.3150, -15.3150) [0.7500, 0.7500, 0.0000]\n",
       " PeriodicSite: Si (0.0000, 10.2100, -10.2100) [0.5000, 0.5000, 0.0000]\n",
       " PeriodicSite: Si (5.1050, 15.3150, -10.2100) [0.3750, 0.8750, 0.5000]\n",
       " PeriodicSite: Si (0.0000, 5.1050, -5.1050) [0.2500, 0.2500, 0.0000]\n",
       " PeriodicSite: Si (5.1050, 10.2100, -5.1050) [0.1250, 0.6250, 0.5000]\n",
       " PeriodicSite: Si (0.0000, 0.0000, 0.0000) [0.0000, 0.0000, 0.0000]\n",
       " PeriodicSite: Si (7.6575, 12.7625, -12.7625) [0.6250, 0.6250, 0.7500]\n",
       " PeriodicSite: Si (7.6575, 7.6575, -7.6575) [0.3750, 0.3750, 0.7500]\n",
       " PeriodicSite: Si (2.5525, 17.8675, -12.7625) [0.5000, 1.0000, 0.2500]\n",
       " PeriodicSite: Si (2.5525, 12.7625, -7.6575) [0.2500, 0.7500, 0.2500]\n",
       " PeriodicSite: Si (7.6575, 2.5525, -2.5525) [0.1250, 0.1250, 0.7500]\n",
       " PeriodicSite: Si (2.5525, 7.6575, -2.5525) [0.0000, 0.5000, 0.2500]\n",
       " PeriodicSite: Si (7.6575, 17.8675, -17.8675) [0.8750, 0.8750, 0.7500]\n",
       " PeriodicSite: Si (2.5525, 7.6575, -12.7625) [0.7500, 0.2500, 0.2500],\n",
       " array([[  0.   ,   5.105, -15.315],\n",
       "        [  0.   ,  15.315,  -5.105],\n",
       "        [ 10.21 ,   0.   ,   0.   ]]))"
      ]
     },
     "execution_count": 5,
     "metadata": {},
     "output_type": "execute_result"
    }
   ],
   "source": [
    "sup1 = s.copy()\n",
    "sup1.make_supercell([[-1,-2,2],[1,-2,2],[-1,1,1]], to_unit_cell = True)\n",
    "sup1, sup1.lattice.matrix"
   ]
  },
  {
   "cell_type": "markdown",
   "metadata": {},
   "source": [
    "Now we need to transform the axes in order that $\\bf{c}$ points in the $z$ direction.\n",
    "The object `lattice` of pymatgen has all the info that we need. The 3 axis lengths $a,b,c$ and the angles between the axes $\\alpha$ between b and c axes , $\\beta$ between $\\bf{a}$  and $\\bf{c}$ and $\\gamma$ between $\\bf{a}$ and $\\bf{b}$. \n",
    "\n",
    "We just set ${\\bf c}^\\prime = c \\cdot \\hat{\\bf z}$; we then put ${\\bf a}^\\prime = a\\cdot sin(\\beta)\\cdot \\hat{\\bf x} + a\\cdot cos(\\beta)\\cdot\\hat{\\bf z}$ in the $xz$ plane forming an angle $\\beta$ with ${\\bf c}^\\prime$; the components of $\\mathbf{b}^\\prime$ are found imposing that ${\\bf b^\\prime \\cdot c^\\prime} = b\\,c\\cdot cos(\\alpha)$ and \n",
    "${\\bf b^\\prime \\cdot a^\\prime} = a\\,b \\cdot cos(\\gamma)$\n",
    "\n",
    "Just use this numbers to create the new vectors and print them to check we have done right"
   ]
  },
  {
   "cell_type": "code",
   "execution_count": 6,
   "metadata": {},
   "outputs": [
    {
     "name": "stdout",
     "output_type": "stream",
     "text": [
      "16.14342745515958 16.14342745515958 10.21 90.0 90.0 53.13010235415599\n"
     ]
    },
    {
     "data": {
      "text/plain": [
       "(array([1.61434275e+01, 0.00000000e+00, 9.88499838e-16]),\n",
       " array([9.68605647e+00, 1.29147420e+01, 9.88499838e-16]),\n",
       " array([ 0.  ,  0.  , 10.21]))"
      ]
     },
     "execution_count": 6,
     "metadata": {},
     "output_type": "execute_result"
    }
   ],
   "source": [
    "latt = sup1.lattice\n",
    "a = latt.a ; alpha = latt.alpha*np.pi/180.0\n",
    "b = latt.b ; beta = latt.beta*np.pi/180.0\n",
    "c = latt.c ; gamma = latt.gamma *np.pi/180.0\n",
    "print(a,b,c, alpha/np.pi*180, beta/np.pi*180, gamma/np.pi*180)\n",
    "newa3 = c * np.array([0,0,1])\n",
    "newa1 = a * np.array([np.sin(beta),0,np.cos(beta)])\n",
    "ca = (np.cos(gamma) - np.cos(beta)*np.cos(alpha))/np.sin(beta)\n",
    "cb = np.sqrt(np.sin(alpha)**2-ca**2)\n",
    "newa2 = b * np.array([ca,cb,np.cos(alpha)])\n",
    "newa1,newa2,newa3"
   ]
  },
  {
   "cell_type": "markdown",
   "metadata": {},
   "source": [
    "\n",
    "we rotate the new $\\bf{a_1}$ and $\\bf{a_2}$ in the plase so that these  axes are oriented compatibly with `pw.x` for the orthorhombic base-centered case with `ibrav=-9` \n",
    "\n",
    "``` \n",
    "(a/2,-b/2,0),(a/2,b/2,0),(0,0,c)\n",
    "```"
   ]
  },
  {
   "cell_type": "code",
   "execution_count": 7,
   "metadata": {},
   "outputs": [
    {
     "data": {
      "text/plain": [
       "(array([14.43912047, -7.21956024,  0.        ]),\n",
       " array([14.43912047,  7.21956024,  0.        ]),\n",
       " array([ 0.  ,  0.  , 10.21]),\n",
       " 14.439120471829302,\n",
       " 7.219560235914651)"
      ]
     },
     "execution_count": 7,
     "metadata": {},
     "output_type": "execute_result"
    }
   ],
   "source": [
    "bisect = (newa1 + newa2)/np.sqrt((newa1+newa2).dot(newa1+newa2)) \n",
    "cbisect = newa1.dot(bisect) / a \n",
    "newa1 = a * np.array([cbisect, - np.sqrt(1 - cbisect * cbisect), 0.0]) \n",
    "newa2 = a * np.array([cbisect,   np.sqrt(1 - cbisect * cbisect), 0.0])\n",
    "newA = 4 * np.sqrt(1./2) * alat \n",
    "newB = 2 * np.sqrt(1./2) * alat \n",
    "newa1, newa2,newa3, newA/2., newB/2. "
   ]
  },
  {
   "cell_type": "markdown",
   "metadata": {},
   "source": [
    "now we replace these three axes in the structure.  then we print out structure info  to compare lengths, angles and fractional coordinates. "
   ]
  },
  {
   "cell_type": "code",
   "execution_count": 8,
   "metadata": {},
   "outputs": [
    {
     "data": {
      "text/plain": [
       "(Structure Summary\n",
       " Lattice\n",
       "     abc : 16.14342745515958 16.14342745515958 10.21\n",
       "  angles : 90.0 90.0 53.130102354155994\n",
       "  volume : 2128.664522000001\n",
       "       A : 14.439120471829302 -7.219560235914653 0.0\n",
       "       B : 14.439120471829302 7.219560235914653 0.0\n",
       "       C : 0.0 0.0 10.21\n",
       "     pbc : True True True\n",
       " PeriodicSite: Si (18.0489, -3.6098, 5.1050) [0.8750, 0.3750, 0.5000]\n",
       " PeriodicSite: Si (10.8293, -3.6098, 5.1050) [0.6250, 0.1250, 0.5000]\n",
       " PeriodicSite: Si (21.6587, 0.0000, 0.0000) [0.7500, 0.7500, 0.0000]\n",
       " PeriodicSite: Si (14.4391, 0.0000, 0.0000) [0.5000, 0.5000, 0.0000]\n",
       " PeriodicSite: Si (18.0489, 3.6098, 5.1050) [0.3750, 0.8750, 0.5000]\n",
       " PeriodicSite: Si (7.2196, 0.0000, 0.0000) [0.2500, 0.2500, 0.0000]\n",
       " PeriodicSite: Si (10.8293, 3.6098, 5.1050) [0.1250, 0.6250, 0.5000]\n",
       " PeriodicSite: Si (0.0000, 0.0000, 0.0000) [0.0000, 0.0000, 0.0000]\n",
       " PeriodicSite: Si (18.0489, 0.0000, 7.6575) [0.6250, 0.6250, 0.7500]\n",
       " PeriodicSite: Si (10.8293, 0.0000, 7.6575) [0.3750, 0.3750, 0.7500]\n",
       " PeriodicSite: Si (21.6587, 3.6098, 2.5525) [0.5000, 1.0000, 0.2500]\n",
       " PeriodicSite: Si (14.4391, 3.6098, 2.5525) [0.2500, 0.7500, 0.2500]\n",
       " PeriodicSite: Si (3.6098, -0.0000, 7.6575) [0.1250, 0.1250, 0.7500]\n",
       " PeriodicSite: Si (7.2196, 3.6098, 2.5525) [0.0000, 0.5000, 0.2500]\n",
       " PeriodicSite: Si (25.2685, 0.0000, 7.6575) [0.8750, 0.8750, 0.7500]\n",
       " PeriodicSite: Si (14.4391, -3.6098, 2.5525) [0.7500, 0.2500, 0.2500],\n",
       " Lattice\n",
       "     abc : 16.14342745515958 16.14342745515958 10.21\n",
       "  angles : 90.0 90.0 53.130102354155994\n",
       "  volume : 2128.664522000001\n",
       "       A : 14.439120471829302 -7.219560235914653 0.0\n",
       "       B : 14.439120471829302 7.219560235914653 0.0\n",
       "       C : 0.0 0.0 10.21\n",
       "     pbc : True True True)"
      ]
     },
     "execution_count": 8,
     "metadata": {},
     "output_type": "execute_result"
    }
   ],
   "source": [
    "sup1.lattice = pmg.Lattice(np.array([newa1, newa2,newa3]))\n",
    "sup1, sup1.lattice"
   ]
  },
  {
   "cell_type": "markdown",
   "metadata": {},
   "source": [
    "Now that the c vector is  oriented along the z cartesian axis we can build any supercell along the $[100]$ direction of any the periodicity along the xy  plane and of any thickess along the z direction \n",
    "\n",
    "the first two vectors define the periodicity in the plane , the third vector the thickness. For example a $2\\times2$ surface with thickness 3 is generated like this:\n",
    "\n",
    "* first we generate the supercell "
   ]
  },
  {
   "cell_type": "code",
   "execution_count": 9,
   "metadata": {
    "scrolled": false
   },
   "outputs": [
    {
     "data": {
      "text/plain": [
       "Structure Summary\n",
       "Lattice\n",
       "    abc : 16.14342745515958 16.14342745515958 20.42\n",
       " angles : 90.0 90.0 53.130102354155994\n",
       " volume : 4257.329044000002\n",
       "      A : 14.439120471829302 -7.219560235914653 0.0\n",
       "      B : 14.439120471829302 7.219560235914653 0.0\n",
       "      C : 0.0 0.0 20.42\n",
       "    pbc : True True True\n",
       "PeriodicSite: Si (18.0489, -3.6098, 5.1050) [0.8750, 0.3750, 0.2500]\n",
       "PeriodicSite: Si (18.0489, -3.6098, 15.3150) [0.8750, 0.3750, 0.7500]\n",
       "PeriodicSite: Si (10.8293, -3.6098, 5.1050) [0.6250, 0.1250, 0.2500]\n",
       "PeriodicSite: Si (10.8293, -3.6098, 15.3150) [0.6250, 0.1250, 0.7500]\n",
       "PeriodicSite: Si (21.6587, -0.0000, 0.0000) [0.7500, 0.7500, 0.0000]\n",
       "PeriodicSite: Si (21.6587, -0.0000, 10.2100) [0.7500, 0.7500, 0.5000]\n",
       "PeriodicSite: Si (14.4391, -0.0000, 0.0000) [0.5000, 0.5000, 0.0000]\n",
       "PeriodicSite: Si (14.4391, -0.0000, 10.2100) [0.5000, 0.5000, 0.5000]\n",
       "PeriodicSite: Si (18.0489, 3.6098, 5.1050) [0.3750, 0.8750, 0.2500]\n",
       "PeriodicSite: Si (18.0489, 3.6098, 15.3150) [0.3750, 0.8750, 0.7500]\n",
       "PeriodicSite: Si (7.2196, -0.0000, 0.0000) [0.2500, 0.2500, 0.0000]\n",
       "PeriodicSite: Si (7.2196, -0.0000, 10.2100) [0.2500, 0.2500, 0.5000]\n",
       "PeriodicSite: Si (10.8293, 3.6098, 5.1050) [0.1250, 0.6250, 0.2500]\n",
       "PeriodicSite: Si (10.8293, 3.6098, 15.3150) [0.1250, 0.6250, 0.7500]\n",
       "PeriodicSite: Si (0.0000, 0.0000, 0.0000) [0.0000, 0.0000, 0.0000]\n",
       "PeriodicSite: Si (0.0000, 0.0000, 10.2100) [0.0000, 0.0000, 0.5000]\n",
       "PeriodicSite: Si (18.0489, -0.0000, 7.6575) [0.6250, 0.6250, 0.3750]\n",
       "PeriodicSite: Si (18.0489, -0.0000, 17.8675) [0.6250, 0.6250, 0.8750]\n",
       "PeriodicSite: Si (10.8293, -0.0000, 7.6575) [0.3750, 0.3750, 0.3750]\n",
       "PeriodicSite: Si (10.8293, -0.0000, 17.8675) [0.3750, 0.3750, 0.8750]\n",
       "PeriodicSite: Si (21.6587, 3.6098, 2.5525) [0.5000, 1.0000, 0.1250]\n",
       "PeriodicSite: Si (21.6587, 3.6098, 12.7625) [0.5000, 1.0000, 0.6250]\n",
       "PeriodicSite: Si (14.4391, 3.6098, 2.5525) [0.2500, 0.7500, 0.1250]\n",
       "PeriodicSite: Si (14.4391, 3.6098, 12.7625) [0.2500, 0.7500, 0.6250]\n",
       "PeriodicSite: Si (3.6098, -0.0000, 7.6575) [0.1250, 0.1250, 0.3750]\n",
       "PeriodicSite: Si (3.6098, -0.0000, 17.8675) [0.1250, 0.1250, 0.8750]\n",
       "PeriodicSite: Si (7.2196, 3.6098, 2.5525) [0.0000, 0.5000, 0.1250]\n",
       "PeriodicSite: Si (7.2196, 3.6098, 12.7625) [0.0000, 0.5000, 0.6250]\n",
       "PeriodicSite: Si (25.2685, -0.0000, 7.6575) [0.8750, 0.8750, 0.3750]\n",
       "PeriodicSite: Si (25.2685, -0.0000, 17.8675) [0.8750, 0.8750, 0.8750]\n",
       "PeriodicSite: Si (14.4391, -3.6098, 2.5525) [0.7500, 0.2500, 0.1250]\n",
       "PeriodicSite: Si (14.4391, -3.6098, 12.7625) [0.7500, 0.2500, 0.6250]"
      ]
     },
     "execution_count": 9,
     "metadata": {},
     "output_type": "execute_result"
    }
   ],
   "source": [
    "sup2 = sup1.copy()\n",
    "sup2.make_supercell([[1,0,0],[0,1,0],[0,0,2]], to_unit_cell = False)\n",
    "sup2"
   ]
  },
  {
   "cell_type": "markdown",
   "metadata": {},
   "source": [
    "* then we extract the coordinates and order them along the z direction, in case we have different species we need to sort also the symbols .... "
   ]
  },
  {
   "cell_type": "code",
   "execution_count": 10,
   "metadata": {},
   "outputs": [
    {
     "data": {
      "text/plain": [
       "[array([ 2.16586807e+01, -8.88178420e-16,  0.00000000e+00]),\n",
       " array([ 1.44391205e+01, -4.44089210e-16,  0.00000000e+00]),\n",
       " array([ 7.21956024e+00, -2.22044605e-16,  0.00000000e+00]),\n",
       " array([0., 0., 0.]),\n",
       " array([21.65868071,  3.60978012,  2.5525    ]),\n",
       " array([14.43912047,  3.60978012,  2.5525    ]),\n",
       " array([7.21956024, 3.60978012, 2.5525    ]),\n",
       " array([14.43912047, -3.60978012,  2.5525    ]),\n",
       " array([18.04890059, -3.60978012,  5.105     ]),\n",
       " array([10.82934035, -3.60978012,  5.105     ]),\n",
       " array([18.04890059,  3.60978012,  5.105     ]),\n",
       " array([10.82934035,  3.60978012,  5.105     ]),\n",
       " array([ 1.80489006e+01, -8.88178420e-16,  7.65750000e+00]),\n",
       " array([ 1.08293404e+01, -4.44089210e-16,  7.65750000e+00]),\n",
       " array([ 3.60978012e+00, -1.66533454e-15,  7.65750000e+00]),\n",
       " array([ 2.52684608e+01, -8.88178420e-16,  7.65750000e+00]),\n",
       " array([ 2.16586807e+01, -8.88178420e-16,  1.02100000e+01]),\n",
       " array([ 1.44391205e+01, -4.44089210e-16,  1.02100000e+01]),\n",
       " array([ 7.21956024e+00, -2.22044605e-16,  1.02100000e+01]),\n",
       " array([ 0.  ,  0.  , 10.21]),\n",
       " array([21.65868071,  3.60978012, 12.7625    ]),\n",
       " array([14.43912047,  3.60978012, 12.7625    ]),\n",
       " array([ 7.21956024,  3.60978012, 12.7625    ]),\n",
       " array([14.43912047, -3.60978012, 12.7625    ]),\n",
       " array([18.04890059, -3.60978012, 15.315     ]),\n",
       " array([10.82934035, -3.60978012, 15.315     ]),\n",
       " array([18.04890059,  3.60978012, 15.315     ]),\n",
       " array([10.82934035,  3.60978012, 15.315     ]),\n",
       " array([ 1.80489006e+01, -8.88178420e-16,  1.78675000e+01]),\n",
       " array([ 1.08293404e+01, -4.44089210e-16,  1.78675000e+01]),\n",
       " array([ 3.60978012e+00, -1.66533454e-15,  1.78675000e+01]),\n",
       " array([ 2.52684608e+01, -8.88178420e-16,  1.78675000e+01])]"
      ]
     },
     "execution_count": 10,
     "metadata": {},
     "output_type": "execute_result"
    }
   ],
   "source": [
    "coords = sup2.cart_coords\n",
    "species = sup2.species\n",
    "temp  = sorted(zip(species,coords), key= lambda x: x[1][2])\n",
    "species = [_[0] for _ in temp ]\n",
    "coords  = [_[1] for _ in temp ]\n",
    "coords"
   ]
  },
  {
   "cell_type": "markdown",
   "metadata": {},
   "source": [
    "* then we modify the periodicit along the a3 axes. We replace previous $\\bf{c}$ vector with one that is longer than the lattice periodity in that direction this create a gap between the slabs. "
   ]
  },
  {
   "cell_type": "code",
   "execution_count": 11,
   "metadata": {},
   "outputs": [],
   "source": [
    "a1 = sup2.lattice.matrix[0]\n",
    "a2 = sup2.lattice.matrix[1]\n",
    "vacuum = 10 # length of the vacuum region \n",
    "a3 = sup2.lattice.matrix[2]+np.array([0.,0., vacuum])\n",
    "surface = pmg.Structure(lattice = np.array([a1,a2,a3]), coords =coords, species= species, coords_are_cartesian=True)\n",
    "from\tcollections import deque\n",
    "it = (f\"{_.specie.name}   {_.coords[0]:12.6f}  {_.coords[1]:12.6f}  {_.coords[2]:12.6f} \\n\" for _ in surface.sites) \n",
    "celldm1 = newA \n",
    "celldm2 = newB/newA \n",
    "celldm3 = np.sqrt(surface.lattice.matrix[2].dot(surface.lattice.matrix[2]))/celldm1  \n",
    "with open('posizioniSi100_8layer','w') as f:\n",
    "\tf.write(f\"ibrav=-9    celldm(1)={celldm1:9.6f}   celldm(2)={celldm2:9.6f}   celldm(3)={celldm3:9.6f}\" +\n",
    "\t        f\"   nat={len(surface.sites)}\\n\\n\")\n",
    "\ts = [\" \".join((f\"{round(_,6):12.6}\" for _ in surface.lattice.matrix[i])) for i in [0,1,2]]    \n",
    "\tf.write ( \"\\n\".join(s) + \"\\n\\n\")\n",
    "\tdeque((f.write(_) for _ in it )) \n",
    " "
   ]
  },
  {
   "cell_type": "code",
   "execution_count": 22,
   "metadata": {},
   "outputs": [],
   "source": [
    "surfcopy = surface.copy()\n",
    "surfcopy.lattice   = pmg.Lattice(surface.lattice.matrix*0.529177)\n",
    "surfcopy.to(filename='surf.cif')"
   ]
  },
  {
   "cell_type": "code",
   "execution_count": 13,
   "metadata": {},
   "outputs": [],
   "source": [
    "p = surface.sites[4]"
   ]
  },
  {
   "cell_type": "code",
   "execution_count": 14,
   "metadata": {},
   "outputs": [
    {
     "data": {
      "text/plain": [
       "array([[14.43912047, -7.21956024,  0.        ],\n",
       "       [14.43912047,  7.21956024,  0.        ],\n",
       "       [ 0.        ,  0.        , 30.42      ]])"
      ]
     },
     "execution_count": 14,
     "metadata": {},
     "output_type": "execute_result"
    }
   ],
   "source": [
    "surface.lattice.matrix"
   ]
  },
  {
   "cell_type": "code",
   "execution_count": 15,
   "metadata": {},
   "outputs": [
    {
     "name": "stdout",
     "output_type": "stream",
     "text": [
      "alat = 16.14342745515958 cosgamma=0.5999999999999999 \n"
     ]
    }
   ],
   "source": [
    "a = surface.lattice.matrix \n",
    "print (f\"alat = { np.sqrt(a[0].dot(a[0]))} cosgamma={a[0].dot(a[1])/a[1].dot(a[1])} \")"
   ]
  },
  {
   "cell_type": "code",
   "execution_count": 16,
   "metadata": {},
   "outputs": [
    {
     "data": {
      "text/plain": [
       "0.093954649073803"
      ]
     },
     "execution_count": 16,
     "metadata": {},
     "output_type": "execute_result"
    }
   ],
   "source": [
    "np.arccos(0.6)/np.pi**2"
   ]
  },
  {
   "cell_type": "code",
   "execution_count": 30,
   "metadata": {},
   "outputs": [
    {
     "data": {
      "text/plain": [
       "array([[0.  , 0.  , 0.  ],\n",
       "       [1.  , 0.  , 0.  ],\n",
       "       [1.  , 0.75, 0.  ],\n",
       "       [0.  , 1.25, 0.  ],\n",
       "       [0.  , 0.  , 0.  ]])"
      ]
     },
     "execution_count": 30,
     "metadata": {},
     "output_type": "execute_result"
    }
   ],
   "source": [
    "crystal_k_points = [\n",
    "\t[ 0.0000,  0.0000, 0.0000],\n",
    "\t[ 0.5000,  0.5000, 0.0000],\n",
    "\t[ 0.3125,  0.6875, 0.0000],\n",
    "\t[-0.3125,  0.3125, 0.0000],\n",
    "\t[ 0.0000,  0.0000, 0.0000]\n",
    "] \n",
    "crystal_k_points = np.array(crystal_k_points)\n",
    "from bravais import recip \n",
    "\n",
    "b = recip(surface.lattice.matrix)\n",
    "np.round(crystal_k_points.dot(b)/2/np.pi*celldm1,5) \n"
   ]
  },
  {
   "cell_type": "code",
   "execution_count": null,
   "metadata": {},
   "outputs": [],
   "source": []
  }
 ],
 "metadata": {
  "kernelspec": {
   "display_name": "Python 3.10.6 ('env': venv)",
   "language": "python",
   "name": "python3"
  },
  "language_info": {
   "codemirror_mode": {
    "name": "ipython",
    "version": 3
   },
   "file_extension": ".py",
   "mimetype": "text/x-python",
   "name": "python",
   "nbconvert_exporter": "python",
   "pygments_lexer": "ipython3",
   "version": "3.10.6"
  },
  "vscode": {
   "interpreter": {
    "hash": "285a1a905e97772c85e0d277409d5e59d744d788ac67fc2df63a91e9516d9008"
   }
  }
 },
 "nbformat": 4,
 "nbformat_minor": 2
}

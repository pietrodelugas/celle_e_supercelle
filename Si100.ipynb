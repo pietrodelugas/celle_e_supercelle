{
 "cells": [
  {
   "cell_type": "code",
   "execution_count": 1,
   "metadata": {},
   "outputs": [],
   "source": [
    "import pymatgen as pmg\n",
    "import numpy as np"
   ]
  },
  {
   "cell_type": "markdown",
   "metadata": {},
   "source": [
    "First thing we generate the bulk $\\mathrm{fcc}$ structure. \n",
    "* we define the lattice with the 3 fcc vectors\n",
    "* a list with a symbol for the atoms in the structure ( in this just one Al) \n",
    "* the coordinates in the same order as the symbols is a list of np.arrays of length 3"
   ]
  },
  {
   "cell_type": "code",
   "execution_count": 2,
   "metadata": {},
   "outputs": [],
   "source": [
    "alat = 10.21 \n",
    "lattice = np.array([[0.,1.,1.], [1.,0.,1], [1.,1.,0]])* alat *0.5\n",
    "species = ['Si','Si']\n",
    "coords=[np.array([0,0,0]), np.array([0.25,0.25,0.25])]\n",
    "\n",
    "s = pmg.Structure(lattice=lattice, species=species , coords=coords, coords_are_cartesian=False) "
   ]
  },
  {
   "cell_type": "markdown",
   "metadata": {},
   "source": [
    "just to check everything is fine we make print out the info about the structure"
   ]
  },
  {
   "cell_type": "code",
   "execution_count": null,
   "metadata": {},
   "outputs": [],
   "source": []
  },
  {
   "cell_type": "code",
   "execution_count": 3,
   "metadata": {},
   "outputs": [
    {
     "data": {
      "text/plain": [
       "Structure Summary\n",
       "Lattice\n",
       "    abc : 7.219560235914651 7.219560235914651 7.219560235914651\n",
       " angles : 60.00000000000001 60.00000000000001 60.00000000000001\n",
       " volume : 266.08306525000006\n",
       "      A : 0.0 5.105 5.105\n",
       "      B : 5.105 0.0 5.105\n",
       "      C : 5.105 5.105 0.0\n",
       "PeriodicSite: Si (0.0000, 0.0000, 0.0000) [0.0000, 0.0000, 0.0000]\n",
       "PeriodicSite: Si (2.5525, 2.5525, 2.5525) [0.2500, 0.2500, 0.2500]"
      ]
     },
     "execution_count": 3,
     "metadata": {},
     "output_type": "execute_result"
    }
   ],
   "source": [
    "s"
   ]
  },
  {
   "cell_type": "markdown",
   "metadata": {},
   "source": [
    "we now generate a supercell with the $z$  axis oriented along the $[1 1 0]$ direction ant the other 2 axes perpendicular to it. \n",
    "* we copy the bulk structure into s1 \n",
    "* we transform `sup1` in a supercell. The  input in the second line means that the new vectors of the lattice for the supercell are $$\\bf{a_1^\\prime} = \\bf{a_3}-\\bf{a_2}  \\; ; \\; \\bf{a_2^\\prime} = \\bf{a_1} \\: ; \\: \\bf{a_3^\\prime} = \\bf{a_3} + \\bf{a_2} -\\bf{a_1}  $$"
   ]
  },
  {
   "cell_type": "code",
   "execution_count": 4,
   "metadata": {},
   "outputs": [
    {
     "data": {
      "text/plain": [
       "Structure Summary\n",
       "Lattice\n",
       "    abc : 14.439120471829302 7.219560235914651 10.21\n",
       " angles : 90.0 90.0 90.0\n",
       " volume : 1064.3322610000002\n",
       "      A : 0.0 10.21 -10.21\n",
       "      B : 0.0 5.105 5.105\n",
       "      C : 10.21 0.0 0.0\n",
       "PeriodicSite: Si (0.0000, 5.1050, -5.1050) [0.5000, 0.0000, 0.0000]\n",
       "PeriodicSite: Si (5.1050, 10.2100, -5.1050) [0.7500, 0.5000, 0.5000]\n",
       "PeriodicSite: Si (0.0000, 0.0000, 0.0000) [0.0000, 0.0000, 0.0000]\n",
       "PeriodicSite: Si (5.1050, 5.1050, 0.0000) [0.2500, 0.5000, 0.5000]\n",
       "PeriodicSite: Si (2.5525, 7.6575, -2.5525) [0.5000, 0.5000, 0.2500]\n",
       "PeriodicSite: Si (7.6575, 7.6575, -7.6575) [0.7500, 0.0000, 0.7500]\n",
       "PeriodicSite: Si (2.5525, 2.5525, 2.5525) [0.0000, 0.5000, 0.2500]\n",
       "PeriodicSite: Si (7.6575, 2.5525, -2.5525) [0.2500, 0.0000, 0.7500]"
      ]
     },
     "execution_count": 4,
     "metadata": {},
     "output_type": "execute_result"
    }
   ],
   "source": [
    "sup1 = s.copy()\n",
    "sup1.make_supercell([[0,-2,2],[1,0,0],[-1,1,1]], to_unit_cell = True)\n",
    "sup1"
   ]
  },
  {
   "cell_type": "markdown",
   "metadata": {},
   "source": [
    "Now we need to transform the axes in order that $\\bf{c}$ points in the $z$ direction.\n",
    "The object `lattice` of pymatgen has all the info that we need. The 3 axis lengths $a,b,c$ and the angles between the axes $\\alpha$ between b and c axes , $\\beta$ between $\\bf{a}$  and $\\bf{c}$ and $\\gamma$ between $\\bf{a}$ and $\\bf{b}$. \n",
    "\n",
    "We just set ${\\bf c}^\\prime = c \\cdot \\hat{\\bf z}$; we then put ${\\bf a}^\\prime = a\\cdot sin(\\beta)\\cdot \\hat{\\bf x} + a\\cdot cos(\\beta)\\cdot\\hat{\\bf z}$ in the $xz$ plane forming an angle $\\beta$ with ${\\bf c}^\\prime$; the components of $\\mathbf{b}^\\prime$ are found imposing that ${\\bf b^\\prime \\cdot c^\\prime} = b\\,c\\cdot cos(\\alpha)$ and \n",
    "${\\bf b^\\prime \\cdot a^\\prime} = a\\,b \\cdot cos(\\gamma)$\n",
    "\n",
    "Just use this numbers to create the new vectors and print them to check we have done right"
   ]
  },
  {
   "cell_type": "code",
   "execution_count": 5,
   "metadata": {},
   "outputs": [
    {
     "name": "stdout",
     "output_type": "stream",
     "text": [
      "14.439120471829302 7.219560235914651 10.21 90.0 90.0 90.0\n"
     ]
    },
    {
     "data": {
      "text/plain": [
       "(array([1.44391205e+01, 0.00000000e+00, 8.84141133e-16]),\n",
       " array([4.42070567e-16, 7.21956024e+00, 4.42070567e-16]),\n",
       " array([ 0.  ,  0.  , 10.21]))"
      ]
     },
     "execution_count": 5,
     "metadata": {},
     "output_type": "execute_result"
    }
   ],
   "source": [
    "latt = sup1.lattice\n",
    "a = latt.a ; alpha = latt.alpha*np.pi/180.0\n",
    "b = latt.b ; beta = latt.beta*np.pi/180.0\n",
    "c = latt.c ; gamma = latt.gamma *np.pi/180.0\n",
    "print(a,b,c, alpha/np.pi*180, beta/np.pi*180, gamma/np.pi*180)\n",
    "newa3 = c * np.array([0,0,1])\n",
    "newa1 = a * np.array([np.sin(beta),0,np.cos(beta)])\n",
    "ca = (np.cos(gamma) - np.cos(beta)*np.cos(alpha))/np.sin(beta)\n",
    "cb = np.sqrt(np.sin(alpha)**2-ca**2)\n",
    "newa2 = b * np.array([ca,cb,np.cos(alpha)])\n",
    "newa1,newa2,newa3"
   ]
  },
  {
   "cell_type": "markdown",
   "metadata": {},
   "source": [
    "now we replace these three axes in the structure.  then we print out structure info  to compare lengths, angles and fractional coordinates. "
   ]
  },
  {
   "cell_type": "code",
   "execution_count": 6,
   "metadata": {},
   "outputs": [
    {
     "data": {
      "text/plain": [
       "Structure Summary\n",
       "Lattice\n",
       "    abc : 14.439120471829302 7.219560235914651 10.21\n",
       " angles : 90.0 90.0 90.0\n",
       " volume : 1064.3322610000002\n",
       "      A : 14.439120471829302 0.0 8.841411334164387e-16\n",
       "      B : 4.4207056670821937e-16 7.219560235914651 4.4207056670821937e-16\n",
       "      C : 0.0 0.0 10.21\n",
       "PeriodicSite: Si (7.2196, 0.0000, 0.0000) [0.5000, 0.0000, 0.0000]\n",
       "PeriodicSite: Si (10.8293, 3.6098, 5.1050) [0.7500, 0.5000, 0.5000]\n",
       "PeriodicSite: Si (0.0000, 0.0000, 0.0000) [0.0000, 0.0000, 0.0000]\n",
       "PeriodicSite: Si (3.6098, 3.6098, 5.1050) [0.2500, 0.5000, 0.5000]\n",
       "PeriodicSite: Si (7.2196, 3.6098, 2.5525) [0.5000, 0.5000, 0.2500]\n",
       "PeriodicSite: Si (10.8293, 0.0000, 7.6575) [0.7500, 0.0000, 0.7500]\n",
       "PeriodicSite: Si (0.0000, 3.6098, 2.5525) [0.0000, 0.5000, 0.2500]\n",
       "PeriodicSite: Si (3.6098, 0.0000, 7.6575) [0.2500, 0.0000, 0.7500]"
      ]
     },
     "execution_count": 6,
     "metadata": {},
     "output_type": "execute_result"
    }
   ],
   "source": [
    "sup1.lattice = pmg.Lattice(np.array([newa1, newa2,newa3]))\n",
    "sup1"
   ]
  },
  {
   "cell_type": "markdown",
   "metadata": {},
   "source": [
    "Now that the c vector is  oriented along the z cartesian axis we can build any supercell along the $[110]$ direction of any the periodicity along the xy  plane and of any thickess along the z direction \n",
    "\n",
    "the first two vectors define the periodicity in the plane , the third vector the thickness. For example a $2\\times2$ surface with thickness 3 is generated like this:\n",
    "\n",
    "* first we generate the supercell "
   ]
  },
  {
   "cell_type": "code",
   "execution_count": 22,
   "metadata": {
    "scrolled": false
   },
   "outputs": [
    {
     "data": {
      "text/plain": [
       "Structure Summary\n",
       "Lattice\n",
       "    abc : 14.439120471829302 7.219560235914651 102.10000000000001\n",
       " angles : 90.0 90.0 90.0\n",
       " volume : 10643.322610000003\n",
       "      A : 14.439120471829302 0.0 8.841411334164387e-16\n",
       "      B : 4.4207056670821937e-16 7.219560235914651 4.4207056670821937e-16\n",
       "      C : 0.0 0.0 102.10000000000001\n",
       "PeriodicSite: Si (7.2196, 0.0000, 0.0000) [0.5000, 0.0000, 0.0000]\n",
       "PeriodicSite: Si (7.2196, 0.0000, 10.2100) [0.5000, 0.0000, 0.1000]\n",
       "PeriodicSite: Si (7.2196, 0.0000, 20.4200) [0.5000, 0.0000, 0.2000]\n",
       "PeriodicSite: Si (7.2196, 0.0000, 30.6300) [0.5000, 0.0000, 0.3000]\n",
       "PeriodicSite: Si (7.2196, 0.0000, 40.8400) [0.5000, 0.0000, 0.4000]\n",
       "PeriodicSite: Si (7.2196, 0.0000, 51.0500) [0.5000, 0.0000, 0.5000]\n",
       "PeriodicSite: Si (7.2196, 0.0000, 61.2600) [0.5000, 0.0000, 0.6000]\n",
       "PeriodicSite: Si (7.2196, 0.0000, 71.4700) [0.5000, 0.0000, 0.7000]\n",
       "PeriodicSite: Si (7.2196, 0.0000, 81.6800) [0.5000, 0.0000, 0.8000]\n",
       "PeriodicSite: Si (7.2196, 0.0000, 91.8900) [0.5000, 0.0000, 0.9000]\n",
       "PeriodicSite: Si (10.8293, 3.6098, 5.1050) [0.7500, 0.5000, 0.0500]\n",
       "PeriodicSite: Si (10.8293, 3.6098, 15.3150) [0.7500, 0.5000, 0.1500]\n",
       "PeriodicSite: Si (10.8293, 3.6098, 25.5250) [0.7500, 0.5000, 0.2500]\n",
       "PeriodicSite: Si (10.8293, 3.6098, 35.7350) [0.7500, 0.5000, 0.3500]\n",
       "PeriodicSite: Si (10.8293, 3.6098, 45.9450) [0.7500, 0.5000, 0.4500]\n",
       "PeriodicSite: Si (10.8293, 3.6098, 56.1550) [0.7500, 0.5000, 0.5500]\n",
       "PeriodicSite: Si (10.8293, 3.6098, 66.3650) [0.7500, 0.5000, 0.6500]\n",
       "PeriodicSite: Si (10.8293, 3.6098, 76.5750) [0.7500, 0.5000, 0.7500]\n",
       "PeriodicSite: Si (10.8293, 3.6098, 86.7850) [0.7500, 0.5000, 0.8500]\n",
       "PeriodicSite: Si (10.8293, 3.6098, 96.9950) [0.7500, 0.5000, 0.9500]\n",
       "PeriodicSite: Si (0.0000, 0.0000, 0.0000) [0.0000, 0.0000, 0.0000]\n",
       "PeriodicSite: Si (0.0000, 0.0000, 10.2100) [0.0000, 0.0000, 0.1000]\n",
       "PeriodicSite: Si (0.0000, 0.0000, 20.4200) [0.0000, 0.0000, 0.2000]\n",
       "PeriodicSite: Si (0.0000, 0.0000, 30.6300) [0.0000, 0.0000, 0.3000]\n",
       "PeriodicSite: Si (0.0000, 0.0000, 40.8400) [0.0000, 0.0000, 0.4000]\n",
       "PeriodicSite: Si (0.0000, 0.0000, 51.0500) [0.0000, 0.0000, 0.5000]\n",
       "PeriodicSite: Si (0.0000, 0.0000, 61.2600) [0.0000, 0.0000, 0.6000]\n",
       "PeriodicSite: Si (0.0000, 0.0000, 71.4700) [0.0000, 0.0000, 0.7000]\n",
       "PeriodicSite: Si (0.0000, 0.0000, 81.6800) [0.0000, 0.0000, 0.8000]\n",
       "PeriodicSite: Si (0.0000, 0.0000, 91.8900) [0.0000, 0.0000, 0.9000]\n",
       "PeriodicSite: Si (3.6098, 3.6098, 5.1050) [0.2500, 0.5000, 0.0500]\n",
       "PeriodicSite: Si (3.6098, 3.6098, 15.3150) [0.2500, 0.5000, 0.1500]\n",
       "PeriodicSite: Si (3.6098, 3.6098, 25.5250) [0.2500, 0.5000, 0.2500]\n",
       "PeriodicSite: Si (3.6098, 3.6098, 35.7350) [0.2500, 0.5000, 0.3500]\n",
       "PeriodicSite: Si (3.6098, 3.6098, 45.9450) [0.2500, 0.5000, 0.4500]\n",
       "PeriodicSite: Si (3.6098, 3.6098, 56.1550) [0.2500, 0.5000, 0.5500]\n",
       "PeriodicSite: Si (3.6098, 3.6098, 66.3650) [0.2500, 0.5000, 0.6500]\n",
       "PeriodicSite: Si (3.6098, 3.6098, 76.5750) [0.2500, 0.5000, 0.7500]\n",
       "PeriodicSite: Si (3.6098, 3.6098, 86.7850) [0.2500, 0.5000, 0.8500]\n",
       "PeriodicSite: Si (3.6098, 3.6098, 96.9950) [0.2500, 0.5000, 0.9500]\n",
       "PeriodicSite: Si (7.2196, 3.6098, 2.5525) [0.5000, 0.5000, 0.0250]\n",
       "PeriodicSite: Si (7.2196, 3.6098, 12.7625) [0.5000, 0.5000, 0.1250]\n",
       "PeriodicSite: Si (7.2196, 3.6098, 22.9725) [0.5000, 0.5000, 0.2250]\n",
       "PeriodicSite: Si (7.2196, 3.6098, 33.1825) [0.5000, 0.5000, 0.3250]\n",
       "PeriodicSite: Si (7.2196, 3.6098, 43.3925) [0.5000, 0.5000, 0.4250]\n",
       "PeriodicSite: Si (7.2196, 3.6098, 53.6025) [0.5000, 0.5000, 0.5250]\n",
       "PeriodicSite: Si (7.2196, 3.6098, 63.8125) [0.5000, 0.5000, 0.6250]\n",
       "PeriodicSite: Si (7.2196, 3.6098, 74.0225) [0.5000, 0.5000, 0.7250]\n",
       "PeriodicSite: Si (7.2196, 3.6098, 84.2325) [0.5000, 0.5000, 0.8250]\n",
       "PeriodicSite: Si (7.2196, 3.6098, 94.4425) [0.5000, 0.5000, 0.9250]\n",
       "PeriodicSite: Si (10.8293, 0.0000, 7.6575) [0.7500, 0.0000, 0.0750]\n",
       "PeriodicSite: Si (10.8293, 0.0000, 17.8675) [0.7500, 0.0000, 0.1750]\n",
       "PeriodicSite: Si (10.8293, 0.0000, 28.0775) [0.7500, 0.0000, 0.2750]\n",
       "PeriodicSite: Si (10.8293, 0.0000, 38.2875) [0.7500, 0.0000, 0.3750]\n",
       "PeriodicSite: Si (10.8293, 0.0000, 48.4975) [0.7500, 0.0000, 0.4750]\n",
       "PeriodicSite: Si (10.8293, 0.0000, 58.7075) [0.7500, 0.0000, 0.5750]\n",
       "PeriodicSite: Si (10.8293, 0.0000, 68.9175) [0.7500, 0.0000, 0.6750]\n",
       "PeriodicSite: Si (10.8293, 0.0000, 79.1275) [0.7500, 0.0000, 0.7750]\n",
       "PeriodicSite: Si (10.8293, 0.0000, 89.3375) [0.7500, 0.0000, 0.8750]\n",
       "PeriodicSite: Si (10.8293, 0.0000, 99.5475) [0.7500, 0.0000, 0.9750]\n",
       "PeriodicSite: Si (0.0000, 3.6098, 2.5525) [-0.0000, 0.5000, 0.0250]\n",
       "PeriodicSite: Si (0.0000, 3.6098, 12.7625) [-0.0000, 0.5000, 0.1250]\n",
       "PeriodicSite: Si (0.0000, 3.6098, 22.9725) [-0.0000, 0.5000, 0.2250]\n",
       "PeriodicSite: Si (0.0000, 3.6098, 33.1825) [-0.0000, 0.5000, 0.3250]\n",
       "PeriodicSite: Si (0.0000, 3.6098, 43.3925) [-0.0000, 0.5000, 0.4250]\n",
       "PeriodicSite: Si (0.0000, 3.6098, 53.6025) [-0.0000, 0.5000, 0.5250]\n",
       "PeriodicSite: Si (0.0000, 3.6098, 63.8125) [-0.0000, 0.5000, 0.6250]\n",
       "PeriodicSite: Si (0.0000, 3.6098, 74.0225) [-0.0000, 0.5000, 0.7250]\n",
       "PeriodicSite: Si (0.0000, 3.6098, 84.2325) [-0.0000, 0.5000, 0.8250]\n",
       "PeriodicSite: Si (0.0000, 3.6098, 94.4425) [-0.0000, 0.5000, 0.9250]\n",
       "PeriodicSite: Si (3.6098, 0.0000, 7.6575) [0.2500, 0.0000, 0.0750]\n",
       "PeriodicSite: Si (3.6098, 0.0000, 17.8675) [0.2500, 0.0000, 0.1750]\n",
       "PeriodicSite: Si (3.6098, 0.0000, 28.0775) [0.2500, 0.0000, 0.2750]\n",
       "PeriodicSite: Si (3.6098, 0.0000, 38.2875) [0.2500, 0.0000, 0.3750]\n",
       "PeriodicSite: Si (3.6098, 0.0000, 48.4975) [0.2500, 0.0000, 0.4750]\n",
       "PeriodicSite: Si (3.6098, 0.0000, 58.7075) [0.2500, 0.0000, 0.5750]\n",
       "PeriodicSite: Si (3.6098, 0.0000, 68.9175) [0.2500, 0.0000, 0.6750]\n",
       "PeriodicSite: Si (3.6098, 0.0000, 79.1275) [0.2500, 0.0000, 0.7750]\n",
       "PeriodicSite: Si (3.6098, 0.0000, 89.3375) [0.2500, 0.0000, 0.8750]\n",
       "PeriodicSite: Si (3.6098, 0.0000, 99.5475) [0.2500, 0.0000, 0.9750]"
      ]
     },
     "execution_count": 22,
     "metadata": {},
     "output_type": "execute_result"
    }
   ],
   "source": [
    "sup2 = sup1.copy()\n",
    "sup2.make_supercell([[1,0,0],[0,1,0],[0,0,10]], to_unit_cell = False)\n",
    "sup2"
   ]
  },
  {
   "cell_type": "markdown",
   "metadata": {},
   "source": [
    "* then we extract the coordinates and order them along the z direction, in case we have different species we need to sort also the symbols .... "
   ]
  },
  {
   "cell_type": "code",
   "execution_count": 23,
   "metadata": {},
   "outputs": [
    {
     "data": {
      "text/plain": [
       "[array([0., 0., 0.]),\n",
       " array([7.21956024e+00, 0.00000000e+00, 4.42070567e-16]),\n",
       " array([2.21035283e-16, 3.60978012e+00, 2.55250000e+00]),\n",
       " array([7.21956024, 3.60978012, 2.5525    ]),\n",
       " array([3.60978012, 3.60978012, 5.105     ]),\n",
       " array([10.82934035,  3.60978012,  5.105     ]),\n",
       " array([3.60978012, 0.        , 7.6575    ]),\n",
       " array([10.82934035,  0.        ,  7.6575    ]),\n",
       " array([ 7.21956024,  0.        , 10.21      ]),\n",
       " array([ 0.  ,  0.  , 10.21]),\n",
       " array([ 7.21956024,  3.60978012, 12.7625    ]),\n",
       " array([2.21035283e-16, 3.60978012e+00, 1.27625000e+01]),\n",
       " array([10.82934035,  3.60978012, 15.315     ]),\n",
       " array([ 3.60978012,  3.60978012, 15.315     ]),\n",
       " array([ 3.60978012,  0.        , 17.8675    ]),\n",
       " array([10.82934035,  0.        , 17.8675    ]),\n",
       " array([ 7.21956024,  0.        , 20.42      ]),\n",
       " array([ 0.  ,  0.  , 20.42]),\n",
       " array([ 7.21956024,  3.60978012, 22.9725    ]),\n",
       " array([2.21035283e-16, 3.60978012e+00, 2.29725000e+01]),\n",
       " array([10.82934035,  3.60978012, 25.525     ]),\n",
       " array([ 3.60978012,  3.60978012, 25.525     ]),\n",
       " array([ 3.60978012,  0.        , 28.0775    ]),\n",
       " array([10.82934035,  0.        , 28.0775    ]),\n",
       " array([ 7.21956024,  0.        , 30.63      ]),\n",
       " array([ 0.  ,  0.  , 30.63]),\n",
       " array([ 7.21956024,  3.60978012, 33.1825    ]),\n",
       " array([2.21035283e-16, 3.60978012e+00, 3.31825000e+01]),\n",
       " array([10.82934035,  3.60978012, 35.735     ]),\n",
       " array([ 3.60978012,  3.60978012, 35.735     ]),\n",
       " array([10.82934035,  0.        , 38.2875    ]),\n",
       " array([ 3.60978012,  0.        , 38.2875    ]),\n",
       " array([ 7.21956024,  0.        , 40.84      ]),\n",
       " array([ 0.  ,  0.  , 40.84]),\n",
       " array([ 7.21956024,  3.60978012, 43.3925    ]),\n",
       " array([2.21035283e-16, 3.60978012e+00, 4.33925000e+01]),\n",
       " array([10.82934035,  3.60978012, 45.945     ]),\n",
       " array([ 3.60978012,  3.60978012, 45.945     ]),\n",
       " array([10.82934035,  0.        , 48.4975    ]),\n",
       " array([ 3.60978012,  0.        , 48.4975    ]),\n",
       " array([ 7.21956024,  0.        , 51.05      ]),\n",
       " array([ 0.  ,  0.  , 51.05]),\n",
       " array([ 7.21956024,  3.60978012, 53.6025    ]),\n",
       " array([2.21035283e-16, 3.60978012e+00, 5.36025000e+01]),\n",
       " array([ 3.60978012,  3.60978012, 56.155     ]),\n",
       " array([10.82934035,  3.60978012, 56.155     ]),\n",
       " array([10.82934035,  0.        , 58.7075    ]),\n",
       " array([ 3.60978012,  0.        , 58.7075    ]),\n",
       " array([ 7.21956024,  0.        , 61.26      ]),\n",
       " array([ 0.  ,  0.  , 61.26]),\n",
       " array([ 7.21956024,  3.60978012, 63.8125    ]),\n",
       " array([2.21035283e-16, 3.60978012e+00, 6.38125000e+01]),\n",
       " array([10.82934035,  3.60978012, 66.365     ]),\n",
       " array([ 3.60978012,  3.60978012, 66.365     ]),\n",
       " array([10.82934035,  0.        , 68.9175    ]),\n",
       " array([ 3.60978012,  0.        , 68.9175    ]),\n",
       " array([ 7.21956024,  0.        , 71.47      ]),\n",
       " array([ 0.  ,  0.  , 71.47]),\n",
       " array([ 7.21956024,  3.60978012, 74.0225    ]),\n",
       " array([2.21035283e-16, 3.60978012e+00, 7.40225000e+01]),\n",
       " array([10.82934035,  3.60978012, 76.575     ]),\n",
       " array([ 3.60978012,  3.60978012, 76.575     ]),\n",
       " array([10.82934035,  0.        , 79.1275    ]),\n",
       " array([ 3.60978012,  0.        , 79.1275    ]),\n",
       " array([ 7.21956024,  0.        , 81.68      ]),\n",
       " array([ 0.  ,  0.  , 81.68]),\n",
       " array([ 7.21956024,  3.60978012, 84.2325    ]),\n",
       " array([2.21035283e-16, 3.60978012e+00, 8.42325000e+01]),\n",
       " array([10.82934035,  3.60978012, 86.785     ]),\n",
       " array([ 3.60978012,  3.60978012, 86.785     ]),\n",
       " array([10.82934035,  0.        , 89.3375    ]),\n",
       " array([ 3.60978012,  0.        , 89.3375    ]),\n",
       " array([ 7.21956024,  0.        , 91.89      ]),\n",
       " array([ 0.  ,  0.  , 91.89]),\n",
       " array([ 7.21956024,  3.60978012, 94.4425    ]),\n",
       " array([2.21035283e-16, 3.60978012e+00, 9.44425000e+01]),\n",
       " array([10.82934035,  3.60978012, 96.995     ]),\n",
       " array([ 3.60978012,  3.60978012, 96.995     ]),\n",
       " array([10.82934035,  0.        , 99.5475    ]),\n",
       " array([ 3.60978012,  0.        , 99.5475    ])]"
      ]
     },
     "execution_count": 23,
     "metadata": {},
     "output_type": "execute_result"
    }
   ],
   "source": [
    "coords = sup2.cart_coords\n",
    "species = sup2.species\n",
    "temp  = sorted(zip(species,coords), key= lambda x: x[1][2])\n",
    "species = [_[0] for _ in temp ]\n",
    "coords  = [_[1] for _ in temp ]\n",
    "coords"
   ]
  },
  {
   "cell_type": "markdown",
   "metadata": {},
   "source": [
    "* then we modify the periodicit along the a3 axes. We replace previous $\\bf{c}$ vector with one that is longer than the lattice periodity in that direction this create a gap between the slabs. "
   ]
  },
  {
   "cell_type": "code",
   "execution_count": 21,
   "metadata": {},
   "outputs": [],
   "source": [
    "a1 = sup2.lattice.matrix[0]\n",
    "a2 = sup2.lattice.matrix[1]\n",
    "vacuum = 10 # length of the vacuum region \n",
    "a3 = sup2.lattice.matrix[2]+np.array([0.,0., vacuum])\n",
    "surface = pmg.Structure(lattice = np.array([a1,a2,a3]), coords =coords, species= species, coords_are_cartesian=True)\n",
    "from\tcollections import deque\n",
    "it = (f\"{_.specie.name}   {_.coords[0]:12.6f}  {_.coords[1]:12.6f}  {_.coords[2]:12.6f} \\n\" for _ in surface.sites) \n",
    "with open('posizioniSi100_20layer','w') as f:\n",
    "\ts = [\" \".join((f\"{round(_,6):12.6}\" for _ in surface.lattice.matrix[i])) for i in [0,1,2]]    \n",
    "\tf.write ( \"\\n\".join(s) + \"\\n\")\n",
    "\tdeque((f.write(_) for _ in it )) \n",
    " "
   ]
  },
  {
   "cell_type": "code",
   "execution_count": 225,
   "metadata": {},
   "outputs": [],
   "source": [
    "surface.to(filename='surf.cif')"
   ]
  },
  {
   "cell_type": "code",
   "execution_count": 226,
   "metadata": {},
   "outputs": [],
   "source": [
    "p = surface.sites[4]"
   ]
  },
  {
   "cell_type": "code",
   "execution_count": 227,
   "metadata": {},
   "outputs": [
    {
     "data": {
      "text/plain": [
       "array([[1.44391205e+01, 0.00000000e+00, 8.84141133e-16],\n",
       "       [4.42070567e-16, 7.21956024e+00, 4.42070567e-16],\n",
       "       [0.00000000e+00, 0.00000000e+00, 4.06300000e+01]])"
      ]
     },
     "execution_count": 227,
     "metadata": {},
     "output_type": "execute_result"
    }
   ],
   "source": [
    "surface.lattice.matrix"
   ]
  },
  {
   "cell_type": "code",
   "execution_count": null,
   "metadata": {},
   "outputs": [],
   "source": []
  }
 ],
 "metadata": {
  "kernelspec": {
   "display_name": "Python 3",
   "language": "python",
   "name": "python3"
  },
  "language_info": {
   "codemirror_mode": {
    "name": "ipython",
    "version": 3
   },
   "file_extension": ".py",
   "mimetype": "text/x-python",
   "name": "python",
   "nbconvert_exporter": "python",
   "pygments_lexer": "ipython3",
   "version": "3.8.10"
  }
 },
 "nbformat": 4,
 "nbformat_minor": 2
}

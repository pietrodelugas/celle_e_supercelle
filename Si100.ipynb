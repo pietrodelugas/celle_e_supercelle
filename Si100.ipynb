{
 "cells": [
  {
   "cell_type": "code",
   "execution_count": null,
   "metadata": {},
   "outputs": [],
   "source": [
    "import pymatgen.core as pmg\n",
    "import numpy as np"
   ]
  },
  {
   "cell_type": "markdown",
   "metadata": {},
   "source": [
    "First thing we generate the bulk $\\mathrm{fcc}$ structure. \n",
    "* we define the lattice with the 3 fcc vectors\n",
    "* a list with a symbol for the atoms in the structure ( in this just one Al) \n",
    "* the coordinates in the same order as the symbols is a list of np.arrays of length 3"
   ]
  },
  {
   "cell_type": "code",
   "execution_count": null,
   "metadata": {},
   "outputs": [],
   "source": [
    "alat = 10.21 \n",
    "lattice = np.array([[0.,1.,1.], [1.,0.,1], [1.,1.,0]])* alat *0.5\n",
    "species = ['Si','Si']\n",
    "coords=[np.array([0,0,0]), np.array([0.25,0.25,0.25])]\n",
    "\n",
    "s = pmg.Structure(lattice=lattice, species=species , coords=coords, coords_are_cartesian=False) "
   ]
  },
  {
   "cell_type": "markdown",
   "metadata": {},
   "source": [
    "just to check everything is fine we make print out the info about the structure"
   ]
  },
  {
   "cell_type": "code",
   "execution_count": null,
   "metadata": {},
   "outputs": [],
   "source": [
    "s, s.lattice.matrix"
   ]
  },
  {
   "cell_type": "markdown",
   "metadata": {},
   "source": [
    "we now generate a supercell with the $z$  axis oriented along the $[1 0 0]$ direction ant the other 2 axes perpendicular to it. \n",
    "* we copy the bulk structure into s1 \n",
    "* we transform `sup1` in a supercell. The  input in the second line means that the new vectors of the lattice for the supercell are $$\\bf{a_1^\\prime} = -2\\bf{a_2}+2\\bf{a_3}  \\; ; \\; \\bf{a_2^\\prime} = \\bf{a_1} \\: ; \\: \\bf{a_3^\\prime} = \\bf{a_1} + \\bf{a_2} + \\bf{a_3}   $$"
   ]
  },
  {
   "cell_type": "code",
   "execution_count": null,
   "metadata": {},
   "outputs": [],
   "source": [
    "sup1 = s.copy()\n",
    "sup1.make_supercell([[0,-2,2],[1,0,0],[-1,1,1]], to_unit_cell = True)\n",
    "sup1, sup1.lattice.matrix"
   ]
  },
  {
   "cell_type": "markdown",
   "metadata": {},
   "source": [
    "Now we need to transform the axes in order that $\\bf{c}$ points in the $z$ direction.\n",
    "The object `lattice` of pymatgen has all the info that we need. The 3 axis lengths $a,b,c$ and the angles between the axes $\\alpha$ between b and c axes , $\\beta$ between $\\bf{a}$  and $\\bf{c}$ and $\\gamma$ between $\\bf{a}$ and $\\bf{b}$. \n",
    "\n",
    "We just set ${\\bf c}^\\prime = c \\cdot \\hat{\\bf z}$; we then put ${\\bf a}^\\prime = a\\cdot sin(\\beta)\\cdot \\hat{\\bf x} + a\\cdot cos(\\beta)\\cdot\\hat{\\bf z}$ in the $xz$ plane forming an angle $\\beta$ with ${\\bf c}^\\prime$; the components of $\\mathbf{b}^\\prime$ are found imposing that ${\\bf b^\\prime \\cdot c^\\prime} = b\\,c\\cdot cos(\\alpha)$ and \n",
    "${\\bf b^\\prime \\cdot a^\\prime} = a\\,b \\cdot cos(\\gamma)$\n",
    "\n",
    "Just use this numbers to create the new vectors and print them to check we have done right"
   ]
  },
  {
   "cell_type": "code",
   "execution_count": null,
   "metadata": {},
   "outputs": [],
   "source": [
    "latt = sup1.lattice\n",
    "a = latt.a ; alpha = latt.alpha*np.pi/180.0\n",
    "b = latt.b ; beta = latt.beta*np.pi/180.0\n",
    "c = latt.c ; gamma = latt.gamma *np.pi/180.0\n",
    "print(a,b,c, alpha/np.pi*180, beta/np.pi*180, gamma/np.pi*180)\n",
    "newa3 = c * np.array([0,0,1])\n",
    "newa1 = a * np.array([np.sin(beta),0,np.cos(beta)])\n",
    "ca = (np.cos(gamma) - np.cos(beta)*np.cos(alpha))/np.sin(beta)\n",
    "cb = np.sqrt(np.sin(alpha)**2-ca**2)\n",
    "newa2 = b * np.array([ca,cb,np.cos(alpha)])\n",
    "newa1,newa2,newa3"
   ]
  },
  {
   "cell_type": "markdown",
   "metadata": {},
   "source": [
    "now we replace these three axes in the structure.  then we print out structure info  to compare lengths, angles and fractional coordinates. "
   ]
  },
  {
   "cell_type": "code",
   "execution_count": null,
   "metadata": {},
   "outputs": [],
   "source": [
    "sup1.lattice = pmg.Lattice(np.array([newa1, newa2,newa3]))\n",
    "sup1"
   ]
  },
  {
   "cell_type": "markdown",
   "metadata": {},
   "source": [
    "Now that the c vector is  oriented along the z cartesian axis we can build any supercell along the $[110]$ direction of any the periodicity along the xy  plane and of any thickess along the z direction \n",
    "\n",
    "the first two vectors define the periodicity in the plane , the third vector the thickness. For example a $2\\times2$ surface with thickness 3 is generated like this:\n",
    "\n",
    "* first we generate the supercell "
   ]
  },
  {
   "cell_type": "code",
   "execution_count": null,
   "metadata": {
    "scrolled": false
   },
   "outputs": [],
   "source": [
    "sup2 = sup1.copy()\n",
    "sup2.make_supercell([[1,0,0],[0,1,0],[0,0,10]], to_unit_cell = False)\n",
    "sup2"
   ]
  },
  {
   "cell_type": "markdown",
   "metadata": {},
   "source": [
    "* then we extract the coordinates and order them along the z direction, in case we have different species we need to sort also the symbols .... "
   ]
  },
  {
   "cell_type": "code",
   "execution_count": null,
   "metadata": {},
   "outputs": [],
   "source": [
    "coords = sup2.cart_coords\n",
    "species = sup2.species\n",
    "temp  = sorted(zip(species,coords), key= lambda x: x[1][2])\n",
    "species = [_[0] for _ in temp ]\n",
    "coords  = [_[1] for _ in temp ]\n",
    "coords"
   ]
  },
  {
   "cell_type": "markdown",
   "metadata": {},
   "source": [
    "* then we modify the periodicit along the a3 axes. We replace previous $\\bf{c}$ vector with one that is longer than the lattice periodity in that direction this create a gap between the slabs. "
   ]
  },
  {
   "cell_type": "code",
   "execution_count": null,
   "metadata": {},
   "outputs": [],
   "source": [
    "a1 = sup2.lattice.matrix[0]\n",
    "a2 = sup2.lattice.matrix[1]\n",
    "vacuum = 10 # length of the vacuum region \n",
    "a3 = sup2.lattice.matrix[2]+np.array([0.,0., vacuum])\n",
    "surface = pmg.Structure(lattice = np.array([a1,a2,a3]), coords =coords, species= species, coords_are_cartesian=True)\n",
    "from\tcollections import deque\n",
    "it = (f\"{_.specie.name}   {_.coords[0]:12.6f}  {_.coords[1]:12.6f}  {_.coords[2]:12.6f} \\n\" for _ in surface.sites) \n",
    "with open('posizioniSi100_20layer','w') as f:\n",
    "\ts = [\" \".join((f\"{round(_,6):12.6}\" for _ in surface.lattice.matrix[i])) for i in [0,1,2]]    \n",
    "\tf.write ( \"\\n\".join(s) + \"\\n\")\n",
    "\tdeque((f.write(_) for _ in it )) \n",
    " "
   ]
  },
  {
   "cell_type": "code",
   "execution_count": null,
   "metadata": {},
   "outputs": [],
   "source": [
    "surface.to(filename='surf.cif')"
   ]
  },
  {
   "cell_type": "code",
   "execution_count": null,
   "metadata": {},
   "outputs": [],
   "source": [
    "p = surface.sites[4]"
   ]
  },
  {
   "cell_type": "code",
   "execution_count": null,
   "metadata": {},
   "outputs": [],
   "source": [
    "surface.lattice.matrix"
   ]
  },
  {
   "cell_type": "code",
   "execution_count": null,
   "metadata": {},
   "outputs": [],
   "source": []
  }
 ],
 "metadata": {
  "kernelspec": {
   "display_name": "Python 3.10.6 ('env': venv)",
   "language": "python",
   "name": "python3"
  },
  "language_info": {
   "codemirror_mode": {
    "name": "ipython",
    "version": 3
   },
   "file_extension": ".py",
   "mimetype": "text/x-python",
   "name": "python",
   "nbconvert_exporter": "python",
   "pygments_lexer": "ipython3",
   "version": "3.10.6"
  },
  "vscode": {
   "interpreter": {
    "hash": "285a1a905e97772c85e0d277409d5e59d744d788ac67fc2df63a91e9516d9008"
   }
  }
 },
 "nbformat": 4,
 "nbformat_minor": 2
}

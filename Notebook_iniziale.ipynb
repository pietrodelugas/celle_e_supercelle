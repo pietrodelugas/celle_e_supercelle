{
 "cells": [
  {
   "cell_type": "code",
   "execution_count": 2,
   "id": "6c0ff0a0",
   "metadata": {},
   "outputs": [],
   "source": [
    "import numpy as np"
   ]
  },
  {
   "cell_type": "code",
   "execution_count": 3,
   "id": "510656b5",
   "metadata": {},
   "outputs": [],
   "source": [
    "# funzioncine ricorrenti: \n",
    "vol   = lambda a: a[0].dot(np.cross(a[1],a[2]))\n",
    "#\n",
    "norm  = lambda v: np.sqrt(v.dot(v))\n",
    "#\n",
    "recip = lambda a: 2.0 * np.pi /vol(a) * np.array([np.cross(a[i-1],a[j-1]) for i,j in [(2,3),(3,1),(1,2)]])\n",
    "#\n",
    "nm    = lambda at_sc,at_0,d: tuple(\n",
    "            (s*(int(round(norm(recip(lattice0)[0].dot(at_sc)/2/np.pi),0))+2) for s in (-1,1))\n",
    ")\n",
    "#\n",
    "t0_sc_frac = lambda at_0, at_sc, i,j,k: recip(at_sc).dot( np.array([i,j,k]).dot(at_0))/2./np.pi\n",
    "#\n",
    "inbox =      lambda at_0, at_sc,i,j,k: (\n",
    "    (t0_sc_frac(at_0,at_sc,i,j,k) > -1.e-6   ).all() and \n",
    "    (t0_sc_frac(at_0,at_sc,i,j,k) < 1.0-1.e-6).all()\n",
    ") \n",
    "#\n",
    "trasl = lambda at_sc,at_0: filter(lambda t: inbox(at_0,at_sc,*t), ((i,j,k) \n",
    "                                        for i in range(*nm(at_sc,at_0,0)) \n",
    "                                        for j in range (*nm(at_sc,at_0,1))\n",
    "                                        for k in range(*nm(at_sc, at_0,2))\n",
    "                                       ))\n",
    "#\n",
    "frac_pos = lambda at, pos:  [(_[0],recip(at).dot(_[1])/2./np.pi) for _ in pos]\n",
    "#\n",
    "scale_pos = lambda fac, pos: [(_[0],_[1]/fac) for _ in pos]\n",
    "#\n",
    "posline = lambda v: \" \".join([f\"{x_:12.7f}\" for x_ in v])\n",
    "write_pos_iteration =  lambda pos,f: (f.write(f\"{_[0]:4s}\" + posline(_[1])+\"\\n\") for _ in pos)\n",
    "#\n",
    "tetragonal_lattice = lambda alat,bsua, csua: alat*np.array([[1.,0.,0.],[0.,bsua,0.],[0.,0.,csua]])\n",
    "hexagonal_lattice  = lambda alat,csua: alat*np.array([[1.,0.,0.],[-0.5, np.sqrt(0.75),0.],[0., 0.,csua]]) \n",
    "#\n",
    "rotate_pos  = lambda old, new, pos: [(_[0],_[1].dot(new)) for _ in frac_pos(old,pos)] \n",
    "#\n",
    "def supercell_pos(at_sc, at_0, pos0):\n",
    "    pos_frac0 = frac_pos(at_0, pos0) \n",
    "    return  [(_[0],(_[1]+np.array(t)).dot(at_0)) for _ in pos_frac0 for t in trasl(at_sc, at_0) ]\n",
    "#\n",
    "def cubic_ibrav_alat(at):\n",
    "    from sys import stdout\n",
    "    #\n",
    "    if round(at[0].dot(at[1]),8) == 0:\n",
    "        alat = norm(a[0])\n",
    "        ibrav = 1\n",
    "    elif round(at[0].dot(at[1])/norm(at[0])/norm(at[1]),8) == 0.5:\n",
    "        alat = norm(a[0])*np.sqrt(2.)\n",
    "        ibrav = 2\n",
    "    elif round(at[0].dot(at[1])/norm(at[0])/norm(at[1]),8) == round(-1./3.,8):\n",
    "        alat = norm(at[0])/0.8660254037844386\n",
    "        ibrav = -3 \n",
    "    return alat, ibrav \n",
    "\n",
    "\n",
    "def tetragonal_ibrav_alat(at):\n",
    "    alat = norm(at[0])\n",
    "    bsua = norm(at[1])/alat\n",
    "    csua = norm(at[2])/alat \n",
    "    if round(bsua,8) == 1.0:\n",
    "        ibrav = 6 \n",
    "    else:\n",
    "        ibrav = 8 \n",
    "    return alat, bsua, csua, ibrav \n",
    "#\n",
    "def hexagonal_ibrav_alat(at): \n",
    "  alat = norm(at[0])\n",
    "  csua = norm(at[2])/norm(at[0])\n",
    "  try:\n",
    "    assert ( round(at[0].dot(at[1])/norm(at[0])**2,8) == -0.5 and  \n",
    "             round(norm(np.cross(at[0],at[1]))/norm(at[0])**2,8) == round(np.sqrt(0.75),8)\n",
    "           )\n",
    "  except AssertionError:\n",
    "    print (at[0].dot(at[1])/norm(at[0])**2 , norm(np.cross(at[0],at[1]))/norm(at[0])**2)\n",
    "    raise AssertionError\n",
    "  return  alat, csua, 6 \n",
    "    \n",
    "#\n",
    "def cubic_alat_pos(at, pos,filename=None):\n",
    "    from collections import deque\n",
    "    from sys import stdout \n",
    "    #\n",
    "    alat, ibrav = cubic_ibrav_alat(at)\n",
    "    #\n",
    "    scaled_pos = scale_pos(alat, pos)\n",
    "    if filename is None:\n",
    "        print (f\"alat = {alat:10.6f}\")\n",
    "        print (f\"ibrav = {ibrav:4d}\" )\n",
    "        print (f\"nat = {len(pos):4d}\\n\") \n",
    "        deque(write_pos_iteration(scaled_pos, stdout), maxlen=0)\n",
    "        return 1\n",
    "    else:\n",
    "        with open(filename,'w') as f:\n",
    "            f.write(f\"alat = {alat:10.6f}\\n\")\n",
    "            f.write(f\"ibrav = {ibrav:4d}\\n\")\n",
    "            f.write(f\"nat = {len(pos):4d}\\n\\n\")\n",
    "            deque(write_pos_iteration(scaled_pos,f),maxlen=0)\n",
    "        return 1 \n",
    "#    \n",
    "def tetragonal_alat_pos(at, pos, filename=None):\n",
    "    from collections import deque\n",
    "    from sys import stdout\n",
    "    #\n",
    "    alat, bsua, csua, ibrav = tetragonal_ibrav_alat(at)\n",
    "    #\n",
    "    scaled_pos = scale_pos(alat,pos)\n",
    "    if filename is None:\n",
    "        print (f\"alat = {alat:10.6f}\")\n",
    "        if ibrav == 8: print(f\"bsua = {bsua:9.6f}\")\n",
    "        print (f\"csua = {csua:9.6f}\")\n",
    "        print (f\"ibrav = {ibrav:4d}\")\n",
    "        print (f\"nat = {len(pos):4d}\\n\")\n",
    "        deque(write_pos_iteration(scaled_pos, stdout))\n",
    "        return 1\n",
    "    else:\n",
    "        with open(filename,'w') as f:\n",
    "            f.write (f\"alat = {alat:10.6f}\\n\")\n",
    "            if ibrav == 8: f.write(f\"bsua = {bsua:9.6f}\\n\")\n",
    "            f.write(f\"csua = {csua:9.6f}\\n\")\n",
    "            f.write(f\"ibrav = {ibrav:4d}\\n\")\n",
    "            f.write(f\"nat = {len(pos):4d}\\n\\n\")\n",
    "            deque(write_pos_iteration(scaled_pos, f))\n",
    "            return 1\n",
    "    \n",
    "    \n",
    "                \n",
    "        \n",
    "     "
   ]
  },
  {
   "cell_type": "code",
   "execution_count": 4,
   "id": "31892a40",
   "metadata": {},
   "outputs": [],
   "source": [
    "#cella primitiva diamante \n",
    "alat = 3.567 / 0.5291 \n",
    "lattice0 = np.array([[0.5,0.5,0.0],[0.5,0.0,0.5],[0.0,0.5,0.5]]) * alat\n",
    "recip0 = recip(lattice0)\n",
    "pos = [('C',np.array([0.,0.,0.])), ('C', np.array([0.25,0.25,0.25])*alat)]"
   ]
  },
  {
   "cell_type": "code",
   "execution_count": 5,
   "id": "029653e8",
   "metadata": {},
   "outputs": [
    {
     "data": {
      "text/plain": [
       "1"
      ]
     },
     "execution_count": 5,
     "metadata": {},
     "output_type": "execute_result"
    }
   ],
   "source": [
    "#supercella da 32 bcc \n",
    "lattice_sc = lattice_sc = np.array([[3,-1,-1],[-1,3,-1],[-1,-1,3]]).dot(lattice0)\n",
    "carbon32 = lattice_sc, supercell_pos(lattice_sc, lattice0, pos)\n",
    "#\n",
    "cubic_alat_pos(*carbon32,'pippo')"
   ]
  },
  {
   "cell_type": "code",
   "execution_count": 14,
   "id": "2d171365",
   "metadata": {
    "scrolled": true
   },
   "outputs": [
    {
     "data": {
      "text/plain": [
       "1"
      ]
     },
     "execution_count": 14,
     "metadata": {},
     "output_type": "execute_result"
    }
   ],
   "source": [
    "at_sc111 = np.array([[0,-1,1],[2,-1,-1],[1,1,1]]).dot(lattice0)\n",
    "temp_pos  =  supercell_pos(at_sc111, lattice0, pos)\n",
    "#alat,  csua, ibrav = hexagonal_ibrav_alat(at_sc111)\n",
    "alat, bsua, csua, ibrav = tetragonal_ibrav_alat(at_sc111)\n",
    "new_latt = tetragonal_lattice(alat, bsua, csua )\n",
    "#\n",
    "new_pos = rotate_pos(at_sc111, new_latt, temp_pos)\n",
    "new_pos.sort(key = lambda e: e[1][2])\n",
    "at_slab111 = new_latt + np.array([[0.,0.,0.],[0.,0.,0.],[0.,0.,0.5 * alat ]])\n",
    "tetragonal_alat_pos(at_slab111, [(_[0],_[1]) for _ in new_pos], 's111')"
   ]
  },
  {
   "cell_type": "code",
   "execution_count": 7,
   "id": "f564d606",
   "metadata": {},
   "outputs": [
    {
     "data": {
      "text/plain": [
       "1.7320508075688776"
      ]
     },
     "execution_count": 7,
     "metadata": {},
     "output_type": "execute_result"
    }
   ],
   "source": [
    "at_sc111[0].dot(at_sc111[1])/norm(at_sc111[0])/norm(at_sc111[1])\n",
    "norm(np.cross(at_sc111[0],at_sc111[1]))/norm(at_sc111[0])**2"
   ]
  },
  {
   "cell_type": "code",
   "execution_count": 8,
   "id": "3817c4e1",
   "metadata": {},
   "outputs": [
    {
     "data": {
      "text/plain": [
       "6.0"
      ]
     },
     "execution_count": 8,
     "metadata": {},
     "output_type": "execute_result"
    }
   ],
   "source": [
    "vol(at_sc111)/vol(lattice0)"
   ]
  },
  {
   "cell_type": "code",
   "execution_count": 9,
   "id": "63762f32",
   "metadata": {},
   "outputs": [
    {
     "data": {
      "text/plain": [
       "2"
      ]
     },
     "execution_count": 9,
     "metadata": {},
     "output_type": "execute_result"
    }
   ],
   "source": [
    "int(round(norm(recip(lattice0)[0].dot(at_sc111)/2/np.pi),0))\n"
   ]
  },
  {
   "cell_type": "code",
   "execution_count": 10,
   "id": "6be92792",
   "metadata": {},
   "outputs": [
    {
     "data": {
      "text/plain": [
       "(array([[-3.37081837,  3.37081837,  0.        ],\n",
       "        [ 3.37081837,  3.37081837, -6.74163674],\n",
       "        [ 6.74163674,  6.74163674,  6.74163674]]),\n",
       " array([[ 4.76705706,  0.        ,  0.        ],\n",
       "        [ 0.        ,  8.25678502,  0.        ],\n",
       "        [ 0.        ,  0.        , 11.67685736]]))"
      ]
     },
     "execution_count": 10,
     "metadata": {},
     "output_type": "execute_result"
    }
   ],
   "source": [
    "at_sc111,new_latt"
   ]
  },
  {
   "cell_type": "code",
   "execution_count": 11,
   "id": "fb9e6ce3",
   "metadata": {},
   "outputs": [
    {
     "data": {
      "text/plain": [
       "0.0"
      ]
     },
     "execution_count": 11,
     "metadata": {},
     "output_type": "execute_result"
    }
   ],
   "source": [
    "at_sc111[1].dot(at_sc111[2])"
   ]
  },
  {
   "cell_type": "code",
   "execution_count": 13,
   "id": "d3259efa",
   "metadata": {},
   "outputs": [
    {
     "data": {
      "text/plain": [
       "array([[-3.37081837,  3.37081837,  0.        ],\n",
       "       [ 3.37081837,  3.37081837, -6.74163674],\n",
       "       [ 6.74163674,  6.74163674,  9.12516527]])"
      ]
     },
     "execution_count": 13,
     "metadata": {},
     "output_type": "execute_result"
    }
   ],
   "source": [
    "at_slab111"
   ]
  },
  {
   "cell_type": "code",
   "execution_count": null,
   "id": "61af8452",
   "metadata": {},
   "outputs": [],
   "source": []
  }
 ],
 "metadata": {
  "kernelspec": {
   "display_name": "Python 3",
   "language": "python",
   "name": "python3"
  },
  "language_info": {
   "codemirror_mode": {
    "name": "ipython",
    "version": 3
   },
   "file_extension": ".py",
   "mimetype": "text/x-python",
   "name": "python",
   "nbconvert_exporter": "python",
   "pygments_lexer": "ipython3",
   "version": "3.8.10"
  },
  "vscode": {
   "interpreter": {
    "hash": "916dbcbb3f70747c44a77c7bcd40155683ae19c65e1c03b4aa3499c5328201f1"
   }
  }
 },
 "nbformat": 4,
 "nbformat_minor": 5
}

{
 "cells": [
  {
   "cell_type": "code",
   "execution_count": 1,
   "id": "6c0ff0a0",
   "metadata": {},
   "outputs": [],
   "source": [
    "import numpy as np"
   ]
  },
  {
   "cell_type": "code",
   "execution_count": 89,
   "id": "510656b5",
   "metadata": {},
   "outputs": [],
   "source": [
    "# funzioncine ricorrenti: \n",
    "vol   = lambda a: a[0].dot(np.cross(a[1],a[2]))\n",
    "#b\n",
    "norm  = lambda v: np.sqrt(v.dot(v))\n",
    "#\n",
    "recip = lambda a: 2.0 * np.pi /vol(a) * np.array([np.cross(a[i-1],a[j-1]) for i,j in [(2,3),(3,1),(1,2)]])\n",
    "#\n",
    "nm    = lambda at_sc,at_0,d: tuple(\n",
    "            (s*(np.diag(np.abs(np.round(recip(at_0).dot(at_sc)/2/np.pi,0)).astype(np.int32))+2)[d] for s in (-1,1))\n",
    ")\n",
    "#\n",
    "t0_sc_frac = lambda at_0, at_sc, i,j,k: recip(at_sc).dot( np.array([i,j,k]).dot(at_0))/2./np.pi\n",
    "#\n",
    "inbox =      lambda at_0, at_sc,i,j,k: (\n",
    "    (t0_sc_frac(at_0,at_sc,i,j,k) > -1.e-6   ).all() and \n",
    "    (t0_sc_frac(at_0,at_sc,i,j,k) < 1.0-1.e-6).all()\n",
    ") \n",
    "#\n",
    "trasl = lambda at_sc,at_0: filter(lambda t: inbox(at_0,at_sc,*t), ((i,j,k) \n",
    "                                        for i in range(*nm(at_sc,at_0,0)) \n",
    "                                        for j in range (*nm(at_sc,at_0,1))\n",
    "                                        for k in range(*nm(at_sc, at_0,2))\n",
    "                                       ))\n",
    "#\n",
    "frac_pos = lambda at, pos:  [(_[0],recip(at).dot(_[1])/2./np.pi) for _ in pos]\n",
    "#\n",
    "scale_pos = lambda fac, pos: [(_[0],_[1]/fac) for _ in pos]\n",
    "#\n",
    "posline = lambda v: \" \".join([f\"{x_:12.7f}\" for x_ in v])\n",
    "write_pos_iteration =  lambda pos,f: (f.write(f\"{_[0]:4s}\" + posline(_[1])+\"\\n\") for _ in pos)\n",
    "#\n",
    "tetragonal_lattice = lambda alat,bsua, csua: alat*np.array([[1.,0.,0.],[0.,bsua,0.],[0.,0.,csua]])\n",
    "#\n",
    "rotate_pos  = lambda old, new, pos: [(_[0],_[1].dot(new)) for _ in frac_pos(old,pos)] \n",
    "#\n",
    "def supercell_pos(at_sc, at_0, pos0):\n",
    "    pos_frac0 = frac_pos(at_0, pos0) \n",
    "    return  [(_[0],(_[1]+np.array(t)).dot(at_0)) for _ in pos_frac0 for t in trasl(at_sc, at_0) ]\n",
    "#\n",
    "def cubic_ibrav_alat(at):\n",
    "    from sys import stdout\n",
    "    #\n",
    "    if round(at[0].dot(at[1]),8) == 0:\n",
    "        alat = norm(a[0])\n",
    "        ibrav = 1\n",
    "    elif round(at[0].dot(at[1])/norm(at[0])/norm(at[1]),8) == 0.5:\n",
    "        alat = norm(a[0])*np.sqrt(2.)\n",
    "        ibrav = 2\n",
    "    elif round(at[0].dot(at[1])/norm(at[0])/norm(at[1]),8) == round(-1./3.,8):\n",
    "        alat = norm(at[0])/0.8660254037844386\n",
    "        ibrav = -3 \n",
    "    return alat, ibrav \n",
    "\n",
    "\n",
    "def tetragonal_ibrav_alat(at):\n",
    "    alat = norm(at[0])\n",
    "    bsua = norm(at[1])/alat\n",
    "    csua = norm(at[2])/alat \n",
    "    if round(bsua,8) == 1.0:\n",
    "        ibrav = 6 \n",
    "    else:\n",
    "        ibrav = 8 \n",
    "    return alat, bsua, csua, ibrav \n",
    "    \n",
    "    \n",
    "#\n",
    "def cubic_alat_pos(at, pos,filename=None):\n",
    "    from collections import deque\n",
    "    from sys import stdout \n",
    "    #\n",
    "    alat, ibrav = cubic_ibrav_alat(at)\n",
    "    #\n",
    "    scaled_pos = scale_pos(alat, pos)\n",
    "    if filename is None:\n",
    "        print (f\"alat = {alat:10.6f}\")\n",
    "        print (f\"ibrav = {ibrav:4d}\" )\n",
    "        print (f\"nat = {len(pos):4d}\\n\") \n",
    "        deque(write_pos_iteration(scaled_pos, stdout), maxlen=0)\n",
    "        return 1\n",
    "    else:\n",
    "        with open(filename,'w') as f:\n",
    "            f.write(f\"alat = {alat:10.6f}\\n\")\n",
    "            f.write(f\"ibrav = {ibrav:4d}\\n\")\n",
    "            f.write(f\"nat = {len(pos):4d}\\n\\n\")\n",
    "            deque(write_pos_iteration(scaled_pos,f),maxlen=0)\n",
    "        return 1 \n",
    "#    \n",
    "def tetragonal_alat_pos(at, pos, filename=None):\n",
    "    from collections import deque\n",
    "    from sys import stdout\n",
    "    #\n",
    "    alat, bsua, csua, ibrav = tetragonal_ibrav_alat(at)\n",
    "    #\n",
    "    scaled_pos = scale_pos(alat,pos)\n",
    "    if filename is None:\n",
    "        print (f\"alat = {alat:10.6f}\")\n",
    "        if ibrav == 8: print(f\"bsua = {bsua:9.6f}\")\n",
    "        print (f\"csua = {csua:9.6f}\")\n",
    "        print (f\"ibrav = {ibrav:4d}\")\n",
    "        print (f\"nat = {len(pos):4d}\\n\")\n",
    "        deque(write_pos_iteration(scaled_pos, stdout))\n",
    "        return 1\n",
    "    else:\n",
    "        with open(filename,'w') as f:\n",
    "            f.write (f\"alat = {alat:10.6f}\\n\")\n",
    "            if ibrav == 8: f.write(f\"bsua = {bsua:9.6f}\\n\")\n",
    "            f.write(f\"csua = {csua:9.6f}\\n\")\n",
    "            f.write(f\"ibrav = {ibrav:4d}\\n\")\n",
    "            f.write(f\"nat = {len(pos):4d}\\n\\n\")\n",
    "            deque(write_pos_iteration(scaled_pos, f))\n",
    "            return 1\n",
    "    \n",
    "    \n",
    "                \n",
    "        \n",
    "     "
   ]
  },
  {
   "cell_type": "code",
   "execution_count": 3,
   "id": "31892a40",
   "metadata": {},
   "outputs": [],
   "source": [
    "#cella primitiva diamante \n",
    "alat = 3.567 / 0.5291 \n",
    "lattice0 = np.array([[0.5,0.5,0.0],[0.5,0.0,0.5],[0.0,0.5,0.5]]) * alat\n",
    "recip0 = recip(lattice0)\n",
    "pos = [('C',np.array([0.,0.,0.])), ('C', np.array([0.25,0.25,0.25])*alat)]"
   ]
  },
  {
   "cell_type": "code",
   "execution_count": 4,
   "id": "029653e8",
   "metadata": {},
   "outputs": [
    {
     "data": {
      "text/plain": [
       "1"
      ]
     },
     "execution_count": 4,
     "metadata": {},
     "output_type": "execute_result"
    }
   ],
   "source": [
    "#supercella da 32 bcc \n",
    "lattice_sc = lattice_sc = np.array([[3,-1,-1],[-1,3,-1],[-1,-1,3]]).dot(lattice0)\n",
    "carbon32 = lattice_sc, supercell_pos(lattice_sc, lattice0, pos)\n",
    "#\n",
    "cubic_alat_pos(*carbon32,'pippo')"
   ]
  },
  {
   "cell_type": "code",
   "execution_count": 127,
   "id": "2d171365",
   "metadata": {
    "scrolled": true
   },
   "outputs": [
    {
     "data": {
      "text/plain": [
       "1"
      ]
     },
     "execution_count": 127,
     "metadata": {},
     "output_type": "execute_result"
    }
   ],
   "source": [
    "at_sc111 = np.array([[0,-2,2],[2,-2,0],[1,1,1]]).dot(lattice0)\n",
    "temp_pos  =  supercell_pos(at_sc111, lattice0, pos)\n",
    "alat, bsua, csua, ibrav = tetragonal_ibrav_alat(at_sc111)\n",
    "new_latt = tetragonal_lattice(alat, bsua, csua)\n",
    "#\n",
    "new_pos = rotate_pos(at_sc111, new_latt, temp_pos)\n",
    "tetragonal_alat_pos(at_sc111, [(_[0],_[1]*alat*0.529177) for _ in new_pos], 'c111')"
   ]
  },
  {
   "cell_type": "code",
   "execution_count": null,
   "id": "75cc1c1b",
   "metadata": {},
   "outputs": [],
   "source": [
    "np.array(([1,1,-1])).dot(lattice0)"
   ]
  },
  {
   "cell_type": "code",
   "execution_count": null,
   "id": "3f63c78f",
   "metadata": {},
   "outputs": [],
   "source": []
  },
  {
   "cell_type": "code",
   "execution_count": 93,
   "id": "fdc8b057",
   "metadata": {},
   "outputs": [
    {
     "data": {
      "text/plain": [
       "[('C', array([0.25, 0.75, 0.5 ])),\n",
       " ('C', array([0.25, 0.25, 0.5 ])),\n",
       " ('C', array([1.59905252e-17, 5.00000000e-01, 0.00000000e+00])),\n",
       " ('C', array([0., 0., 0.])),\n",
       " ('C', array([0.75, 0.75, 0.5 ])),\n",
       " ('C', array([0.75, 0.25, 0.5 ])),\n",
       " ('C', array([0.5, 0.5, 0. ])),\n",
       " ('C', array([5.00000000e-01, 1.59905252e-17, 0.00000000e+00])),\n",
       " ('C', array([0.25, 0.75, 0.25])),\n",
       " ('C', array([0.25, 0.25, 0.25])),\n",
       " ('C', array([-5.22852764e-17,  5.00000000e-01, -2.50000000e-01])),\n",
       " ('C', array([ 1.35873339e-17,  2.44634152e-17, -2.50000000e-01])),\n",
       " ('C', array([0.75, 0.75, 0.25])),\n",
       " ('C', array([0.75, 0.25, 0.25])),\n",
       " ('C', array([ 0.5 ,  0.5 , -0.25])),\n",
       " ('C', array([ 5.00000000e-01, -3.02250526e-17, -2.50000000e-01]))]"
      ]
     },
     "execution_count": 93,
     "metadata": {},
     "output_type": "execute_result"
    }
   ],
   "source": [
    "frac_pos(at_sc111,temp_pos)"
   ]
  },
  {
   "cell_type": "code",
   "execution_count": 25,
   "id": "9de478f4",
   "metadata": {},
   "outputs": [
    {
     "data": {
      "text/plain": [
       "8.0"
      ]
     },
     "execution_count": 25,
     "metadata": {},
     "output_type": "execute_result"
    }
   ],
   "source": [
    "vol(at_sc111)/vol(lattice0)"
   ]
  },
  {
   "cell_type": "code",
   "execution_count": 35,
   "id": "82eea3bd",
   "metadata": {},
   "outputs": [
    {
     "data": {
      "text/plain": [
       "2.9192143406719833"
      ]
     },
     "execution_count": 35,
     "metadata": {},
     "output_type": "execute_result"
    }
   ],
   "source": [
    "norm(at_sc111[2])/4"
   ]
  },
  {
   "cell_type": "code",
   "execution_count": 61,
   "id": "cefeb200",
   "metadata": {},
   "outputs": [
    {
     "data": {
      "text/plain": [
       "[array([0., 0., 0.]),\n",
       " array([-1.59905252e-17,  5.00000000e-01,  0.00000000e+00]),\n",
       " array([ 5.00000000e-01, -1.59905252e-17,  0.00000000e+00]),\n",
       " array([0.5, 0.5, 0. ]),\n",
       " array([0.25      , 0.25      , 0.61237244]),\n",
       " array([0.25      , 0.75      , 0.61237244]),\n",
       " array([0.75      , 0.25      , 0.61237244]),\n",
       " array([0.75      , 0.75      , 0.61237244]),\n",
       " array([ 1.35873339e-17, -2.44634152e-17,  3.06186218e-01]),\n",
       " array([-5.22852764e-17,  5.00000000e-01,  3.06186218e-01]),\n",
       " array([5.00000000e-01, 3.02250526e-17, 3.06186218e-01]),\n",
       " array([0.5       , 0.5       , 0.30618622]),\n",
       " array([0.25      , 0.25      , 0.91855865]),\n",
       " array([0.25      , 0.75      , 0.91855865]),\n",
       " array([0.75      , 0.25      , 0.91855865]),\n",
       " array([0.75      , 0.75      , 0.91855865])]"
      ]
     },
     "execution_count": 61,
     "metadata": {},
     "output_type": "execute_result"
    }
   ],
   "source": [
    "p = [(_[1]+np.array(t)).dot(lattice0) for _ in frac_pos(lattice0,pos) for t in trasl(at_sc111,lattice0) ]\n",
    "f = [recip(at_sc111).dot(_)/2/np.pi for _ in p ]\n"
   ]
  },
  {
   "cell_type": "code",
   "execution_count": 52,
   "id": "3ae71152",
   "metadata": {},
   "outputs": [],
   "source": [
    "r = recip(at_sc111)"
   ]
  },
  {
   "cell_type": "code",
   "execution_count": 62,
   "id": "4a4a7c98",
   "metadata": {},
   "outputs": [
    {
     "data": {
      "text/plain": [
       "array([[ 9.53411411,  0.        ,  0.        ],\n",
       "       [ 0.        ,  9.53411411,  0.        ],\n",
       "       [ 0.        ,  0.        , 11.67685736]])"
      ]
     },
     "execution_count": 62,
     "metadata": {},
     "output_type": "execute_result"
    }
   ],
   "source": [
    "new_latt"
   ]
  },
  {
   "cell_type": "code",
   "execution_count": 63,
   "id": "d9b96586",
   "metadata": {},
   "outputs": [
    {
     "data": {
      "text/plain": [
       "array([[ 6.74163674,  6.74163674,  0.        ],\n",
       "       [ 6.74163674, -6.74163674,  0.        ],\n",
       "       [ 6.74163674,  6.74163674,  6.74163674]])"
      ]
     },
     "execution_count": 63,
     "metadata": {},
     "output_type": "execute_result"
    }
   ],
   "source": [
    "at_sc111"
   ]
  },
  {
   "cell_type": "code",
   "execution_count": 66,
   "id": "6bdcad0e",
   "metadata": {},
   "outputs": [
    {
     "data": {
      "text/plain": [
       "[('C', array([0., 0., 0.])),\n",
       " ('C', array([ 3.37081837, -3.37081837,  0.        ])),\n",
       " ('C', array([3.37081837, 3.37081837, 0.        ])),\n",
       " ('C', array([6.74163674, 0.        , 0.        ])),\n",
       " ('C', array([6.74163674, 3.37081837, 3.37081837])),\n",
       " ('C', array([10.11245511,  0.        ,  3.37081837])),\n",
       " ('C', array([10.11245511,  6.74163674,  3.37081837])),\n",
       " ('C', array([13.48327348,  3.37081837,  3.37081837])),\n",
       " ('C', array([1.68540919, 1.68540919, 1.68540919])),\n",
       " ('C', array([ 5.05622756, -1.68540919,  1.68540919])),\n",
       " ('C', array([5.05622756, 5.05622756, 1.68540919])),\n",
       " ('C', array([8.42704593, 1.68540919, 1.68540919])),\n",
       " ('C', array([8.42704593, 5.05622756, 5.05622756])),\n",
       " ('C', array([11.7978643 ,  1.68540919,  5.05622756])),\n",
       " ('C', array([11.7978643 ,  8.42704593,  5.05622756])),\n",
       " ('C', array([15.16868267,  5.05622756,  5.05622756]))]"
      ]
     },
     "execution_count": 66,
     "metadata": {},
     "output_type": "execute_result"
    }
   ],
   "source": [
    "temp_pos"
   ]
  },
  {
   "cell_type": "code",
   "execution_count": 74,
   "id": "5e7caf1c",
   "metadata": {},
   "outputs": [
    {
     "data": {
      "text/plain": [
       "1.2247448713915892"
      ]
     },
     "execution_count": 74,
     "metadata": {},
     "output_type": "execute_result"
    }
   ],
   "source": [
    "norm(at_sc111[2])/norm(at_sc111[0])"
   ]
  },
  {
   "cell_type": "code",
   "execution_count": 126,
   "id": "c8febd63",
   "metadata": {},
   "outputs": [
    {
     "data": {
      "text/plain": [
       "array([-0.40824829, -0.40824829,  0.81649658])"
      ]
     },
     "execution_count": 126,
     "metadata": {},
     "output_type": "execute_result"
    }
   ],
   "source": [
    "np.cross(at_sc111[2],at_sc111[0])/norm(at_sc111[0])/norm(at_sc111[2])"
   ]
  },
  {
   "cell_type": "code",
   "execution_count": 84,
   "id": "2bc84f73",
   "metadata": {},
   "outputs": [
    {
     "data": {
      "text/plain": [
       "8.0"
      ]
     },
     "execution_count": 84,
     "metadata": {},
     "output_type": "execute_result"
    }
   ],
   "source": [
    "vol(at_sc111)/vol(lattice0)"
   ]
  },
  {
   "cell_type": "code",
   "execution_count": 91,
   "id": "820146f7",
   "metadata": {},
   "outputs": [
    {
     "data": {
      "text/plain": [
       "(-3, 3)"
      ]
     },
     "execution_count": 91,
     "metadata": {},
     "output_type": "execute_result"
    }
   ],
   "source": [
    "nm(at_sc111, lattice0,1)"
   ]
  },
  {
   "cell_type": "code",
   "execution_count": 120,
   "id": "2faead87",
   "metadata": {},
   "outputs": [
    {
     "data": {
      "text/plain": [
       "array([0.70710678, 0.70710678, 0.70710678])"
      ]
     },
     "execution_count": 120,
     "metadata": {},
     "output_type": "execute_result"
    }
   ],
   "source": [
    "at_sc111[2]/norm(at_sc111[0])"
   ]
  },
  {
   "cell_type": "code",
   "execution_count": 119,
   "id": "7a00ab2f",
   "metadata": {},
   "outputs": [
    {
     "data": {
      "text/plain": [
       "0.0"
      ]
     },
     "execution_count": 119,
     "metadata": {},
     "output_type": "execute_result"
    }
   ],
   "source": [
    "at_sc111[0].dot(at_sc111[2])"
   ]
  },
  {
   "cell_type": "code",
   "execution_count": 128,
   "id": "249805b7",
   "metadata": {},
   "outputs": [
    {
     "data": {
      "text/plain": [
       "array([[-6.74163674,  6.74163674,  0.        ],\n",
       "       [ 0.        ,  6.74163674, -6.74163674],\n",
       "       [ 6.74163674,  6.74163674,  6.74163674]])"
      ]
     },
     "execution_count": 128,
     "metadata": {},
     "output_type": "execute_result"
    }
   ],
   "source": [
    "at_sc111"
   ]
  },
  {
   "cell_type": "code",
   "execution_count": null,
   "id": "f564d606",
   "metadata": {},
   "outputs": [],
   "source": []
  }
 ],
 "metadata": {
  "kernelspec": {
   "display_name": "Python 3",
   "language": "python",
   "name": "python3"
  },
  "language_info": {
   "codemirror_mode": {
    "name": "ipython",
    "version": 3
   },
   "file_extension": ".py",
   "mimetype": "text/x-python",
   "name": "python",
   "nbconvert_exporter": "python",
   "pygments_lexer": "ipython3",
   "version": "3.8.11"
  }
 },
 "nbformat": 4,
 "nbformat_minor": 5
}
